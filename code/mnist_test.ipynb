{
 "cells": [
  {
   "cell_type": "code",
   "execution_count": 1,
   "id": "dfd64653",
   "metadata": {
    "ExecuteTime": {
     "end_time": "2023-05-04T09:54:04.449995Z",
     "start_time": "2023-05-04T09:54:04.212956Z"
    }
   },
   "outputs": [],
   "source": [
    "import os\n",
    "import numpy as np\n",
    "import pandas as pd\n",
    "import pickle"
   ]
  },
  {
   "cell_type": "code",
   "execution_count": 2,
   "id": "e561bf5a",
   "metadata": {
    "ExecuteTime": {
     "end_time": "2023-05-04T09:54:04.784101Z",
     "start_time": "2023-05-04T09:54:04.581405Z"
    }
   },
   "outputs": [],
   "source": [
    "import matplotlib.pyplot as plt"
   ]
  },
  {
   "cell_type": "code",
   "execution_count": 3,
   "id": "3af00c69",
   "metadata": {
    "ExecuteTime": {
     "end_time": "2023-05-04T09:54:05.579381Z",
     "start_time": "2023-05-04T09:54:05.544068Z"
    }
   },
   "outputs": [],
   "source": [
    "# Collect fake MNIST images\n",
    "Fake_MNIST = pickle.load(open('./Fake_MNIST_data_EP100_N10000.pckl', 'rb'))"
   ]
  },
  {
   "cell_type": "code",
   "execution_count": 4,
   "id": "55c11aac",
   "metadata": {
    "ExecuteTime": {
     "end_time": "2023-05-04T09:54:06.606408Z",
     "start_time": "2023-05-04T09:54:05.824520Z"
    }
   },
   "outputs": [
    {
     "data": {
      "text/html": [
       "<div>\n",
       "<style scoped>\n",
       "    .dataframe tbody tr th:only-of-type {\n",
       "        vertical-align: middle;\n",
       "    }\n",
       "\n",
       "    .dataframe tbody tr th {\n",
       "        vertical-align: top;\n",
       "    }\n",
       "\n",
       "    .dataframe thead th {\n",
       "        text-align: right;\n",
       "    }\n",
       "</style>\n",
       "<table border=\"1\" class=\"dataframe\">\n",
       "  <thead>\n",
       "    <tr style=\"text-align: right;\">\n",
       "      <th></th>\n",
       "      <th>0</th>\n",
       "      <th>1</th>\n",
       "      <th>2</th>\n",
       "      <th>3</th>\n",
       "      <th>4</th>\n",
       "      <th>5</th>\n",
       "      <th>6</th>\n",
       "      <th>7</th>\n",
       "      <th>8</th>\n",
       "      <th>9</th>\n",
       "      <th>...</th>\n",
       "      <th>1014</th>\n",
       "      <th>1015</th>\n",
       "      <th>1016</th>\n",
       "      <th>1017</th>\n",
       "      <th>1018</th>\n",
       "      <th>1019</th>\n",
       "      <th>1020</th>\n",
       "      <th>1021</th>\n",
       "      <th>1022</th>\n",
       "      <th>1023</th>\n",
       "    </tr>\n",
       "  </thead>\n",
       "  <tbody>\n",
       "    <tr>\n",
       "      <th>count</th>\n",
       "      <td>10000.000000</td>\n",
       "      <td>10000.000000</td>\n",
       "      <td>10000.000000</td>\n",
       "      <td>10000.000000</td>\n",
       "      <td>10000.000000</td>\n",
       "      <td>10000.000000</td>\n",
       "      <td>10000.000000</td>\n",
       "      <td>10000.000000</td>\n",
       "      <td>10000.000000</td>\n",
       "      <td>10000.000000</td>\n",
       "      <td>...</td>\n",
       "      <td>10000.000000</td>\n",
       "      <td>10000.000000</td>\n",
       "      <td>10000.000000</td>\n",
       "      <td>10000.000000</td>\n",
       "      <td>10000.000000</td>\n",
       "      <td>10000.000000</td>\n",
       "      <td>10000.000000</td>\n",
       "      <td>10000.000000</td>\n",
       "      <td>10000.000000</td>\n",
       "      <td>10000.000000</td>\n",
       "    </tr>\n",
       "    <tr>\n",
       "      <th>mean</th>\n",
       "      <td>-0.997014</td>\n",
       "      <td>-0.998927</td>\n",
       "      <td>-0.998829</td>\n",
       "      <td>-0.998883</td>\n",
       "      <td>-0.998326</td>\n",
       "      <td>-0.995890</td>\n",
       "      <td>-0.996643</td>\n",
       "      <td>-0.994833</td>\n",
       "      <td>-0.996515</td>\n",
       "      <td>-0.998469</td>\n",
       "      <td>...</td>\n",
       "      <td>-0.993143</td>\n",
       "      <td>-0.987315</td>\n",
       "      <td>-0.990555</td>\n",
       "      <td>-0.994025</td>\n",
       "      <td>-0.996376</td>\n",
       "      <td>-0.997216</td>\n",
       "      <td>-0.997730</td>\n",
       "      <td>-0.999465</td>\n",
       "      <td>-0.999712</td>\n",
       "      <td>-0.982177</td>\n",
       "    </tr>\n",
       "    <tr>\n",
       "      <th>std</th>\n",
       "      <td>0.009507</td>\n",
       "      <td>0.004742</td>\n",
       "      <td>0.004507</td>\n",
       "      <td>0.005142</td>\n",
       "      <td>0.008949</td>\n",
       "      <td>0.018943</td>\n",
       "      <td>0.014030</td>\n",
       "      <td>0.021462</td>\n",
       "      <td>0.015626</td>\n",
       "      <td>0.007453</td>\n",
       "      <td>...</td>\n",
       "      <td>0.043699</td>\n",
       "      <td>0.083057</td>\n",
       "      <td>0.064083</td>\n",
       "      <td>0.044608</td>\n",
       "      <td>0.031719</td>\n",
       "      <td>0.023372</td>\n",
       "      <td>0.020007</td>\n",
       "      <td>0.005553</td>\n",
       "      <td>0.002374</td>\n",
       "      <td>0.031838</td>\n",
       "    </tr>\n",
       "    <tr>\n",
       "      <th>min</th>\n",
       "      <td>-1.000000</td>\n",
       "      <td>-1.000000</td>\n",
       "      <td>-1.000000</td>\n",
       "      <td>-1.000000</td>\n",
       "      <td>-1.000000</td>\n",
       "      <td>-1.000000</td>\n",
       "      <td>-1.000000</td>\n",
       "      <td>-1.000000</td>\n",
       "      <td>-1.000000</td>\n",
       "      <td>-1.000000</td>\n",
       "      <td>...</td>\n",
       "      <td>-1.000000</td>\n",
       "      <td>-1.000000</td>\n",
       "      <td>-1.000000</td>\n",
       "      <td>-1.000000</td>\n",
       "      <td>-1.000000</td>\n",
       "      <td>-1.000000</td>\n",
       "      <td>-1.000000</td>\n",
       "      <td>-1.000000</td>\n",
       "      <td>-1.000000</td>\n",
       "      <td>-0.999993</td>\n",
       "    </tr>\n",
       "    <tr>\n",
       "      <th>25%</th>\n",
       "      <td>-0.999999</td>\n",
       "      <td>-1.000000</td>\n",
       "      <td>-1.000000</td>\n",
       "      <td>-1.000000</td>\n",
       "      <td>-1.000000</td>\n",
       "      <td>-0.999999</td>\n",
       "      <td>-0.999998</td>\n",
       "      <td>-0.999996</td>\n",
       "      <td>-0.999995</td>\n",
       "      <td>-0.999996</td>\n",
       "      <td>...</td>\n",
       "      <td>-0.999997</td>\n",
       "      <td>-0.999998</td>\n",
       "      <td>-0.999999</td>\n",
       "      <td>-0.999999</td>\n",
       "      <td>-0.999999</td>\n",
       "      <td>-0.999999</td>\n",
       "      <td>-0.999999</td>\n",
       "      <td>-0.999999</td>\n",
       "      <td>-0.999997</td>\n",
       "      <td>-0.997726</td>\n",
       "    </tr>\n",
       "    <tr>\n",
       "      <th>50%</th>\n",
       "      <td>-0.999978</td>\n",
       "      <td>-1.000000</td>\n",
       "      <td>-0.999999</td>\n",
       "      <td>-0.999997</td>\n",
       "      <td>-0.999990</td>\n",
       "      <td>-0.999964</td>\n",
       "      <td>-0.999947</td>\n",
       "      <td>-0.999921</td>\n",
       "      <td>-0.999917</td>\n",
       "      <td>-0.999946</td>\n",
       "      <td>...</td>\n",
       "      <td>-0.999960</td>\n",
       "      <td>-0.999969</td>\n",
       "      <td>-0.999978</td>\n",
       "      <td>-0.999978</td>\n",
       "      <td>-0.999982</td>\n",
       "      <td>-0.999978</td>\n",
       "      <td>-0.999985</td>\n",
       "      <td>-0.999993</td>\n",
       "      <td>-0.999985</td>\n",
       "      <td>-0.992908</td>\n",
       "    </tr>\n",
       "    <tr>\n",
       "      <th>75%</th>\n",
       "      <td>-0.998991</td>\n",
       "      <td>-0.999956</td>\n",
       "      <td>-0.999905</td>\n",
       "      <td>-0.999797</td>\n",
       "      <td>-0.999688</td>\n",
       "      <td>-0.999209</td>\n",
       "      <td>-0.999186</td>\n",
       "      <td>-0.998720</td>\n",
       "      <td>-0.998969</td>\n",
       "      <td>-0.999509</td>\n",
       "      <td>...</td>\n",
       "      <td>-0.999486</td>\n",
       "      <td>-0.999472</td>\n",
       "      <td>-0.999585</td>\n",
       "      <td>-0.999650</td>\n",
       "      <td>-0.999718</td>\n",
       "      <td>-0.999692</td>\n",
       "      <td>-0.999781</td>\n",
       "      <td>-0.999932</td>\n",
       "      <td>-0.999918</td>\n",
       "      <td>-0.980099</td>\n",
       "    </tr>\n",
       "    <tr>\n",
       "      <th>max</th>\n",
       "      <td>-0.777169</td>\n",
       "      <td>-0.893969</td>\n",
       "      <td>-0.923162</td>\n",
       "      <td>-0.799416</td>\n",
       "      <td>-0.670059</td>\n",
       "      <td>-0.519979</td>\n",
       "      <td>-0.522574</td>\n",
       "      <td>-0.503956</td>\n",
       "      <td>-0.553487</td>\n",
       "      <td>-0.827810</td>\n",
       "      <td>...</td>\n",
       "      <td>0.031640</td>\n",
       "      <td>0.572610</td>\n",
       "      <td>0.441620</td>\n",
       "      <td>0.259027</td>\n",
       "      <td>0.443376</td>\n",
       "      <td>-0.034209</td>\n",
       "      <td>-0.151669</td>\n",
       "      <td>-0.717535</td>\n",
       "      <td>-0.855124</td>\n",
       "      <td>-0.163544</td>\n",
       "    </tr>\n",
       "  </tbody>\n",
       "</table>\n",
       "<p>8 rows × 1024 columns</p>\n",
       "</div>"
      ],
      "text/plain": [
       "               0             1             2             3             4      \n",
       "count  10000.000000  10000.000000  10000.000000  10000.000000  10000.000000  \\\n",
       "mean      -0.997014     -0.998927     -0.998829     -0.998883     -0.998326   \n",
       "std        0.009507      0.004742      0.004507      0.005142      0.008949   \n",
       "min       -1.000000     -1.000000     -1.000000     -1.000000     -1.000000   \n",
       "25%       -0.999999     -1.000000     -1.000000     -1.000000     -1.000000   \n",
       "50%       -0.999978     -1.000000     -0.999999     -0.999997     -0.999990   \n",
       "75%       -0.998991     -0.999956     -0.999905     -0.999797     -0.999688   \n",
       "max       -0.777169     -0.893969     -0.923162     -0.799416     -0.670059   \n",
       "\n",
       "               5             6             7             8             9      \n",
       "count  10000.000000  10000.000000  10000.000000  10000.000000  10000.000000  \\\n",
       "mean      -0.995890     -0.996643     -0.994833     -0.996515     -0.998469   \n",
       "std        0.018943      0.014030      0.021462      0.015626      0.007453   \n",
       "min       -1.000000     -1.000000     -1.000000     -1.000000     -1.000000   \n",
       "25%       -0.999999     -0.999998     -0.999996     -0.999995     -0.999996   \n",
       "50%       -0.999964     -0.999947     -0.999921     -0.999917     -0.999946   \n",
       "75%       -0.999209     -0.999186     -0.998720     -0.998969     -0.999509   \n",
       "max       -0.519979     -0.522574     -0.503956     -0.553487     -0.827810   \n",
       "\n",
       "       ...          1014          1015          1016          1017   \n",
       "count  ...  10000.000000  10000.000000  10000.000000  10000.000000  \\\n",
       "mean   ...     -0.993143     -0.987315     -0.990555     -0.994025   \n",
       "std    ...      0.043699      0.083057      0.064083      0.044608   \n",
       "min    ...     -1.000000     -1.000000     -1.000000     -1.000000   \n",
       "25%    ...     -0.999997     -0.999998     -0.999999     -0.999999   \n",
       "50%    ...     -0.999960     -0.999969     -0.999978     -0.999978   \n",
       "75%    ...     -0.999486     -0.999472     -0.999585     -0.999650   \n",
       "max    ...      0.031640      0.572610      0.441620      0.259027   \n",
       "\n",
       "               1018          1019          1020          1021          1022   \n",
       "count  10000.000000  10000.000000  10000.000000  10000.000000  10000.000000  \\\n",
       "mean      -0.996376     -0.997216     -0.997730     -0.999465     -0.999712   \n",
       "std        0.031719      0.023372      0.020007      0.005553      0.002374   \n",
       "min       -1.000000     -1.000000     -1.000000     -1.000000     -1.000000   \n",
       "25%       -0.999999     -0.999999     -0.999999     -0.999999     -0.999997   \n",
       "50%       -0.999982     -0.999978     -0.999985     -0.999993     -0.999985   \n",
       "75%       -0.999718     -0.999692     -0.999781     -0.999932     -0.999918   \n",
       "max        0.443376     -0.034209     -0.151669     -0.717535     -0.855124   \n",
       "\n",
       "               1023  \n",
       "count  10000.000000  \n",
       "mean      -0.982177  \n",
       "std        0.031838  \n",
       "min       -0.999993  \n",
       "25%       -0.997726  \n",
       "50%       -0.992908  \n",
       "75%       -0.980099  \n",
       "max       -0.163544  \n",
       "\n",
       "[8 rows x 1024 columns]"
      ]
     },
     "execution_count": 4,
     "metadata": {},
     "output_type": "execute_result"
    }
   ],
   "source": [
    "pd.DataFrame(Fake_MNIST[0].reshape(10000, 32*32).astype('float32')).describe()"
   ]
  },
  {
   "cell_type": "code",
   "execution_count": 22,
   "id": "14259731",
   "metadata": {
    "ExecuteTime": {
     "end_time": "2023-05-04T11:08:44.941079Z",
     "start_time": "2023-05-04T11:08:44.935015Z"
    }
   },
   "outputs": [],
   "source": [
    "df = pd.DataFrame(Fake_MNIST[0].reshape(10000, 32*32))"
   ]
  },
  {
   "cell_type": "code",
   "execution_count": 23,
   "id": "5c8e5d21",
   "metadata": {
    "ExecuteTime": {
     "end_time": "2023-05-04T11:08:49.251706Z",
     "start_time": "2023-05-04T11:08:49.222912Z"
    }
   },
   "outputs": [
    {
     "data": {
      "text/html": [
       "<div>\n",
       "<style scoped>\n",
       "    .dataframe tbody tr th:only-of-type {\n",
       "        vertical-align: middle;\n",
       "    }\n",
       "\n",
       "    .dataframe tbody tr th {\n",
       "        vertical-align: top;\n",
       "    }\n",
       "\n",
       "    .dataframe thead th {\n",
       "        text-align: right;\n",
       "    }\n",
       "</style>\n",
       "<table border=\"1\" class=\"dataframe\">\n",
       "  <thead>\n",
       "    <tr style=\"text-align: right;\">\n",
       "      <th></th>\n",
       "      <th>0</th>\n",
       "      <th>1</th>\n",
       "      <th>2</th>\n",
       "      <th>3</th>\n",
       "      <th>4</th>\n",
       "      <th>5</th>\n",
       "      <th>6</th>\n",
       "      <th>7</th>\n",
       "      <th>8</th>\n",
       "      <th>9</th>\n",
       "      <th>...</th>\n",
       "      <th>1014</th>\n",
       "      <th>1015</th>\n",
       "      <th>1016</th>\n",
       "      <th>1017</th>\n",
       "      <th>1018</th>\n",
       "      <th>1019</th>\n",
       "      <th>1020</th>\n",
       "      <th>1021</th>\n",
       "      <th>1022</th>\n",
       "      <th>1023</th>\n",
       "    </tr>\n",
       "  </thead>\n",
       "  <tbody>\n",
       "    <tr>\n",
       "      <th>0</th>\n",
       "      <td>-0.999973</td>\n",
       "      <td>-1.000000</td>\n",
       "      <td>-1.000000</td>\n",
       "      <td>-1.000000</td>\n",
       "      <td>-1.000000</td>\n",
       "      <td>-1.000000</td>\n",
       "      <td>-1.000000</td>\n",
       "      <td>-1.000000</td>\n",
       "      <td>-0.999999</td>\n",
       "      <td>-0.999996</td>\n",
       "      <td>...</td>\n",
       "      <td>-0.999921</td>\n",
       "      <td>-0.999985</td>\n",
       "      <td>-0.999973</td>\n",
       "      <td>-0.999869</td>\n",
       "      <td>-0.998887</td>\n",
       "      <td>-0.997077</td>\n",
       "      <td>-0.994639</td>\n",
       "      <td>-0.999252</td>\n",
       "      <td>-0.999712</td>\n",
       "      <td>-0.999576</td>\n",
       "    </tr>\n",
       "    <tr>\n",
       "      <th>1</th>\n",
       "      <td>-1.000000</td>\n",
       "      <td>-1.000000</td>\n",
       "      <td>-1.000000</td>\n",
       "      <td>-1.000000</td>\n",
       "      <td>-1.000000</td>\n",
       "      <td>-0.999999</td>\n",
       "      <td>-0.999984</td>\n",
       "      <td>-0.999733</td>\n",
       "      <td>-0.999252</td>\n",
       "      <td>-0.999773</td>\n",
       "      <td>...</td>\n",
       "      <td>-0.999894</td>\n",
       "      <td>-0.999977</td>\n",
       "      <td>-0.999994</td>\n",
       "      <td>-0.999984</td>\n",
       "      <td>-0.999753</td>\n",
       "      <td>-0.998708</td>\n",
       "      <td>-0.999171</td>\n",
       "      <td>-0.999856</td>\n",
       "      <td>-0.999938</td>\n",
       "      <td>-0.993231</td>\n",
       "    </tr>\n",
       "    <tr>\n",
       "      <th>2</th>\n",
       "      <td>-0.996899</td>\n",
       "      <td>-0.996691</td>\n",
       "      <td>-0.995577</td>\n",
       "      <td>-0.997534</td>\n",
       "      <td>-0.998864</td>\n",
       "      <td>-0.999402</td>\n",
       "      <td>-0.999528</td>\n",
       "      <td>-0.998523</td>\n",
       "      <td>-0.996875</td>\n",
       "      <td>-0.996668</td>\n",
       "      <td>...</td>\n",
       "      <td>-0.999928</td>\n",
       "      <td>-0.999977</td>\n",
       "      <td>-0.999965</td>\n",
       "      <td>-0.999945</td>\n",
       "      <td>-0.999820</td>\n",
       "      <td>-0.999720</td>\n",
       "      <td>-0.999847</td>\n",
       "      <td>-0.999980</td>\n",
       "      <td>-0.999978</td>\n",
       "      <td>-0.972436</td>\n",
       "    </tr>\n",
       "    <tr>\n",
       "      <th>3</th>\n",
       "      <td>-0.999999</td>\n",
       "      <td>-1.000000</td>\n",
       "      <td>-1.000000</td>\n",
       "      <td>-1.000000</td>\n",
       "      <td>-1.000000</td>\n",
       "      <td>-1.000000</td>\n",
       "      <td>-1.000000</td>\n",
       "      <td>-1.000000</td>\n",
       "      <td>-0.999999</td>\n",
       "      <td>-0.999997</td>\n",
       "      <td>...</td>\n",
       "      <td>-0.999858</td>\n",
       "      <td>-0.999987</td>\n",
       "      <td>-0.999997</td>\n",
       "      <td>-1.000000</td>\n",
       "      <td>-1.000000</td>\n",
       "      <td>-1.000000</td>\n",
       "      <td>-0.999998</td>\n",
       "      <td>-0.999994</td>\n",
       "      <td>-0.999926</td>\n",
       "      <td>-0.970809</td>\n",
       "    </tr>\n",
       "    <tr>\n",
       "      <th>4</th>\n",
       "      <td>-0.999996</td>\n",
       "      <td>-1.000000</td>\n",
       "      <td>-1.000000</td>\n",
       "      <td>-0.999998</td>\n",
       "      <td>-0.999999</td>\n",
       "      <td>-0.999998</td>\n",
       "      <td>-0.999996</td>\n",
       "      <td>-0.999983</td>\n",
       "      <td>-0.999961</td>\n",
       "      <td>-0.999942</td>\n",
       "      <td>...</td>\n",
       "      <td>-0.999969</td>\n",
       "      <td>-0.999993</td>\n",
       "      <td>-1.000000</td>\n",
       "      <td>-1.000000</td>\n",
       "      <td>-1.000000</td>\n",
       "      <td>-0.999999</td>\n",
       "      <td>-0.999995</td>\n",
       "      <td>-0.999992</td>\n",
       "      <td>-0.999979</td>\n",
       "      <td>-0.994897</td>\n",
       "    </tr>\n",
       "    <tr>\n",
       "      <th>...</th>\n",
       "      <td>...</td>\n",
       "      <td>...</td>\n",
       "      <td>...</td>\n",
       "      <td>...</td>\n",
       "      <td>...</td>\n",
       "      <td>...</td>\n",
       "      <td>...</td>\n",
       "      <td>...</td>\n",
       "      <td>...</td>\n",
       "      <td>...</td>\n",
       "      <td>...</td>\n",
       "      <td>...</td>\n",
       "      <td>...</td>\n",
       "      <td>...</td>\n",
       "      <td>...</td>\n",
       "      <td>...</td>\n",
       "      <td>...</td>\n",
       "      <td>...</td>\n",
       "      <td>...</td>\n",
       "      <td>...</td>\n",
       "      <td>...</td>\n",
       "    </tr>\n",
       "    <tr>\n",
       "      <th>9995</th>\n",
       "      <td>-0.999994</td>\n",
       "      <td>-1.000000</td>\n",
       "      <td>-1.000000</td>\n",
       "      <td>-0.999990</td>\n",
       "      <td>-0.999971</td>\n",
       "      <td>-0.999986</td>\n",
       "      <td>-0.999996</td>\n",
       "      <td>-1.000000</td>\n",
       "      <td>-1.000000</td>\n",
       "      <td>-0.999994</td>\n",
       "      <td>...</td>\n",
       "      <td>-0.999775</td>\n",
       "      <td>-0.998033</td>\n",
       "      <td>-0.995035</td>\n",
       "      <td>-0.996604</td>\n",
       "      <td>-0.999951</td>\n",
       "      <td>-0.999994</td>\n",
       "      <td>-0.999999</td>\n",
       "      <td>-0.999999</td>\n",
       "      <td>-0.999997</td>\n",
       "      <td>-0.997722</td>\n",
       "    </tr>\n",
       "    <tr>\n",
       "      <th>9996</th>\n",
       "      <td>-1.000000</td>\n",
       "      <td>-1.000000</td>\n",
       "      <td>-1.000000</td>\n",
       "      <td>-1.000000</td>\n",
       "      <td>-1.000000</td>\n",
       "      <td>-0.999964</td>\n",
       "      <td>-0.999669</td>\n",
       "      <td>-0.998930</td>\n",
       "      <td>-0.999172</td>\n",
       "      <td>-0.999754</td>\n",
       "      <td>...</td>\n",
       "      <td>-0.980387</td>\n",
       "      <td>-0.997080</td>\n",
       "      <td>-0.999925</td>\n",
       "      <td>-0.999996</td>\n",
       "      <td>-0.999998</td>\n",
       "      <td>-0.999970</td>\n",
       "      <td>-0.999800</td>\n",
       "      <td>-0.999768</td>\n",
       "      <td>-0.999740</td>\n",
       "      <td>-0.997466</td>\n",
       "    </tr>\n",
       "    <tr>\n",
       "      <th>9997</th>\n",
       "      <td>-0.999839</td>\n",
       "      <td>-1.000000</td>\n",
       "      <td>-1.000000</td>\n",
       "      <td>-1.000000</td>\n",
       "      <td>-1.000000</td>\n",
       "      <td>-1.000000</td>\n",
       "      <td>-0.999980</td>\n",
       "      <td>-0.999616</td>\n",
       "      <td>-0.999670</td>\n",
       "      <td>-0.998802</td>\n",
       "      <td>...</td>\n",
       "      <td>-1.000000</td>\n",
       "      <td>-1.000000</td>\n",
       "      <td>-1.000000</td>\n",
       "      <td>-1.000000</td>\n",
       "      <td>-1.000000</td>\n",
       "      <td>-1.000000</td>\n",
       "      <td>-1.000000</td>\n",
       "      <td>-1.000000</td>\n",
       "      <td>-1.000000</td>\n",
       "      <td>-0.983989</td>\n",
       "    </tr>\n",
       "    <tr>\n",
       "      <th>9998</th>\n",
       "      <td>-0.987417</td>\n",
       "      <td>-0.984159</td>\n",
       "      <td>-0.998641</td>\n",
       "      <td>-0.999963</td>\n",
       "      <td>-0.999983</td>\n",
       "      <td>-0.999994</td>\n",
       "      <td>-0.999931</td>\n",
       "      <td>-0.999625</td>\n",
       "      <td>-0.999655</td>\n",
       "      <td>-0.999953</td>\n",
       "      <td>...</td>\n",
       "      <td>-0.999787</td>\n",
       "      <td>-0.999808</td>\n",
       "      <td>-0.999830</td>\n",
       "      <td>-0.999931</td>\n",
       "      <td>-0.999994</td>\n",
       "      <td>-1.000000</td>\n",
       "      <td>-1.000000</td>\n",
       "      <td>-1.000000</td>\n",
       "      <td>-1.000000</td>\n",
       "      <td>-0.997360</td>\n",
       "    </tr>\n",
       "    <tr>\n",
       "      <th>9999</th>\n",
       "      <td>-0.999998</td>\n",
       "      <td>-1.000000</td>\n",
       "      <td>-1.000000</td>\n",
       "      <td>-0.999920</td>\n",
       "      <td>-0.998224</td>\n",
       "      <td>-0.986531</td>\n",
       "      <td>-0.993307</td>\n",
       "      <td>-0.998727</td>\n",
       "      <td>-0.999159</td>\n",
       "      <td>-0.999643</td>\n",
       "      <td>...</td>\n",
       "      <td>-0.999327</td>\n",
       "      <td>-0.999540</td>\n",
       "      <td>-0.999116</td>\n",
       "      <td>-0.994520</td>\n",
       "      <td>-0.996718</td>\n",
       "      <td>-0.997225</td>\n",
       "      <td>-0.998884</td>\n",
       "      <td>-0.999805</td>\n",
       "      <td>-0.999826</td>\n",
       "      <td>-0.967552</td>\n",
       "    </tr>\n",
       "  </tbody>\n",
       "</table>\n",
       "<p>10000 rows × 1024 columns</p>\n",
       "</div>"
      ],
      "text/plain": [
       "          0         1         2         3         4         5         6      \n",
       "0    -0.999973 -1.000000 -1.000000 -1.000000 -1.000000 -1.000000 -1.000000  \\\n",
       "1    -1.000000 -1.000000 -1.000000 -1.000000 -1.000000 -0.999999 -0.999984   \n",
       "2    -0.996899 -0.996691 -0.995577 -0.997534 -0.998864 -0.999402 -0.999528   \n",
       "3    -0.999999 -1.000000 -1.000000 -1.000000 -1.000000 -1.000000 -1.000000   \n",
       "4    -0.999996 -1.000000 -1.000000 -0.999998 -0.999999 -0.999998 -0.999996   \n",
       "...        ...       ...       ...       ...       ...       ...       ...   \n",
       "9995 -0.999994 -1.000000 -1.000000 -0.999990 -0.999971 -0.999986 -0.999996   \n",
       "9996 -1.000000 -1.000000 -1.000000 -1.000000 -1.000000 -0.999964 -0.999669   \n",
       "9997 -0.999839 -1.000000 -1.000000 -1.000000 -1.000000 -1.000000 -0.999980   \n",
       "9998 -0.987417 -0.984159 -0.998641 -0.999963 -0.999983 -0.999994 -0.999931   \n",
       "9999 -0.999998 -1.000000 -1.000000 -0.999920 -0.998224 -0.986531 -0.993307   \n",
       "\n",
       "          7         8         9     ...      1014      1015      1016   \n",
       "0    -1.000000 -0.999999 -0.999996  ... -0.999921 -0.999985 -0.999973  \\\n",
       "1    -0.999733 -0.999252 -0.999773  ... -0.999894 -0.999977 -0.999994   \n",
       "2    -0.998523 -0.996875 -0.996668  ... -0.999928 -0.999977 -0.999965   \n",
       "3    -1.000000 -0.999999 -0.999997  ... -0.999858 -0.999987 -0.999997   \n",
       "4    -0.999983 -0.999961 -0.999942  ... -0.999969 -0.999993 -1.000000   \n",
       "...        ...       ...       ...  ...       ...       ...       ...   \n",
       "9995 -1.000000 -1.000000 -0.999994  ... -0.999775 -0.998033 -0.995035   \n",
       "9996 -0.998930 -0.999172 -0.999754  ... -0.980387 -0.997080 -0.999925   \n",
       "9997 -0.999616 -0.999670 -0.998802  ... -1.000000 -1.000000 -1.000000   \n",
       "9998 -0.999625 -0.999655 -0.999953  ... -0.999787 -0.999808 -0.999830   \n",
       "9999 -0.998727 -0.999159 -0.999643  ... -0.999327 -0.999540 -0.999116   \n",
       "\n",
       "          1017      1018      1019      1020      1021      1022      1023  \n",
       "0    -0.999869 -0.998887 -0.997077 -0.994639 -0.999252 -0.999712 -0.999576  \n",
       "1    -0.999984 -0.999753 -0.998708 -0.999171 -0.999856 -0.999938 -0.993231  \n",
       "2    -0.999945 -0.999820 -0.999720 -0.999847 -0.999980 -0.999978 -0.972436  \n",
       "3    -1.000000 -1.000000 -1.000000 -0.999998 -0.999994 -0.999926 -0.970809  \n",
       "4    -1.000000 -1.000000 -0.999999 -0.999995 -0.999992 -0.999979 -0.994897  \n",
       "...        ...       ...       ...       ...       ...       ...       ...  \n",
       "9995 -0.996604 -0.999951 -0.999994 -0.999999 -0.999999 -0.999997 -0.997722  \n",
       "9996 -0.999996 -0.999998 -0.999970 -0.999800 -0.999768 -0.999740 -0.997466  \n",
       "9997 -1.000000 -1.000000 -1.000000 -1.000000 -1.000000 -1.000000 -0.983989  \n",
       "9998 -0.999931 -0.999994 -1.000000 -1.000000 -1.000000 -1.000000 -0.997360  \n",
       "9999 -0.994520 -0.996718 -0.997225 -0.998884 -0.999805 -0.999826 -0.967552  \n",
       "\n",
       "[10000 rows x 1024 columns]"
      ]
     },
     "execution_count": 23,
     "metadata": {},
     "output_type": "execute_result"
    }
   ],
   "source": [
    "df"
   ]
  },
  {
   "cell_type": "code",
   "execution_count": 30,
   "id": "51fc2ada",
   "metadata": {
    "ExecuteTime": {
     "end_time": "2023-05-04T15:27:50.188388Z",
     "start_time": "2023-05-04T15:27:44.891295Z"
    }
   },
   "outputs": [],
   "source": [
    "df.to_csv('fake_df.csv', index=False)"
   ]
  },
  {
   "cell_type": "code",
   "execution_count": 31,
   "id": "f67a5e06",
   "metadata": {
    "ExecuteTime": {
     "end_time": "2023-05-04T15:29:45.712384Z",
     "start_time": "2023-05-04T15:29:25.550684Z"
    }
   },
   "outputs": [],
   "source": [
    "import matplotlib.pyplot as plt\n",
    "from sklearn.manifold import TSNE\n",
    "\n",
    "tsne = TSNE(n_components=2).fit_transform(df)"
   ]
  },
  {
   "cell_type": "code",
   "execution_count": 32,
   "id": "7675809a",
   "metadata": {
    "ExecuteTime": {
     "end_time": "2023-05-04T15:29:45.715154Z",
     "start_time": "2023-05-04T15:29:45.713583Z"
    }
   },
   "outputs": [],
   "source": [
    "import seaborn as sns"
   ]
  },
  {
   "cell_type": "code",
   "execution_count": 34,
   "id": "4b8fd58b",
   "metadata": {
    "ExecuteTime": {
     "end_time": "2023-05-04T15:34:02.339035Z",
     "start_time": "2023-05-04T15:34:02.326072Z"
    }
   },
   "outputs": [
    {
     "data": {
      "text/html": [
       "<div>\n",
       "<style scoped>\n",
       "    .dataframe tbody tr th:only-of-type {\n",
       "        vertical-align: middle;\n",
       "    }\n",
       "\n",
       "    .dataframe tbody tr th {\n",
       "        vertical-align: top;\n",
       "    }\n",
       "\n",
       "    .dataframe thead th {\n",
       "        text-align: right;\n",
       "    }\n",
       "</style>\n",
       "<table border=\"1\" class=\"dataframe\">\n",
       "  <thead>\n",
       "    <tr style=\"text-align: right;\">\n",
       "      <th></th>\n",
       "      <th>x</th>\n",
       "      <th>y</th>\n",
       "    </tr>\n",
       "  </thead>\n",
       "  <tbody>\n",
       "    <tr>\n",
       "      <th>0</th>\n",
       "      <td>-31.540268</td>\n",
       "      <td>-54.266743</td>\n",
       "    </tr>\n",
       "    <tr>\n",
       "      <th>1</th>\n",
       "      <td>-48.311909</td>\n",
       "      <td>-34.046734</td>\n",
       "    </tr>\n",
       "    <tr>\n",
       "      <th>2</th>\n",
       "      <td>18.395353</td>\n",
       "      <td>37.244965</td>\n",
       "    </tr>\n",
       "    <tr>\n",
       "      <th>3</th>\n",
       "      <td>-5.997700</td>\n",
       "      <td>63.897396</td>\n",
       "    </tr>\n",
       "    <tr>\n",
       "      <th>4</th>\n",
       "      <td>35.792423</td>\n",
       "      <td>47.488365</td>\n",
       "    </tr>\n",
       "    <tr>\n",
       "      <th>...</th>\n",
       "      <td>...</td>\n",
       "      <td>...</td>\n",
       "    </tr>\n",
       "    <tr>\n",
       "      <th>9995</th>\n",
       "      <td>54.197632</td>\n",
       "      <td>-10.931988</td>\n",
       "    </tr>\n",
       "    <tr>\n",
       "      <th>9996</th>\n",
       "      <td>-51.349136</td>\n",
       "      <td>-27.546011</td>\n",
       "    </tr>\n",
       "    <tr>\n",
       "      <th>9997</th>\n",
       "      <td>-80.295578</td>\n",
       "      <td>-18.961264</td>\n",
       "    </tr>\n",
       "    <tr>\n",
       "      <th>9998</th>\n",
       "      <td>-0.510774</td>\n",
       "      <td>-19.449902</td>\n",
       "    </tr>\n",
       "    <tr>\n",
       "      <th>9999</th>\n",
       "      <td>-22.930223</td>\n",
       "      <td>-12.121769</td>\n",
       "    </tr>\n",
       "  </tbody>\n",
       "</table>\n",
       "<p>10000 rows × 2 columns</p>\n",
       "</div>"
      ],
      "text/plain": [
       "              x          y\n",
       "0    -31.540268 -54.266743\n",
       "1    -48.311909 -34.046734\n",
       "2     18.395353  37.244965\n",
       "3     -5.997700  63.897396\n",
       "4     35.792423  47.488365\n",
       "...         ...        ...\n",
       "9995  54.197632 -10.931988\n",
       "9996 -51.349136 -27.546011\n",
       "9997 -80.295578 -18.961264\n",
       "9998  -0.510774 -19.449902\n",
       "9999 -22.930223 -12.121769\n",
       "\n",
       "[10000 rows x 2 columns]"
      ]
     },
     "execution_count": 34,
     "metadata": {},
     "output_type": "execute_result"
    }
   ],
   "source": []
  },
  {
   "cell_type": "code",
   "execution_count": 52,
   "id": "e98d5f23",
   "metadata": {
    "ExecuteTime": {
     "end_time": "2023-05-04T16:23:51.316046Z",
     "start_time": "2023-05-04T16:23:48.874249Z"
    }
   },
   "outputs": [
    {
     "name": "stderr",
     "output_type": "stream",
     "text": [
      "/opt/homebrew/Caskroom/miniforge/base/envs/DL-torch/lib/python3.8/site-packages/IPython/core/pylabtools.py:152: UserWarning: Glyph 44284 (\\N{HANGUL SYLLABLE GWA}) missing from current font.\n",
      "  fig.canvas.print_figure(bytes_io, **kw)\n"
     ]
    },
    {
     "data": {
      "image/png": "[encoded data removed]",
      "text/plain": [
       "<Figure size 600x600 with 3 Axes>"
      ]
     },
     "metadata": {},
     "output_type": "display_data"
    }
   ],
   "source": [
    "sns.jointplot(x=\"x\", y=\"y\", data=tsne_df, kind=\"kde\")\n",
    "plt.suptitle(\" Joint Plot 과 Kernel Density Plot\", y=1.02)\n",
    "plt.show()"
   ]
  },
  {
   "cell_type": "code",
   "execution_count": null,
   "id": "ee015360",
   "metadata": {
    "ExecuteTime": {
     "start_time": "2023-05-04T15:40:52.200Z"
    }
   },
   "outputs": [],
   "source": [
    "tsne_df = pd.DataFrame({'x': tsne[:, 0], 'y':tsne[:, 1]})\n",
    "\n",
    "plt.figure(figsize=(16, 10))\n",
    "sns.scatterplot(\n",
    "    x = 'x', y = 'y',\n",
    "    #hue = 'classes',\n",
    "    #palette = sns.color_palette(\"Set1\", 10),\n",
    "    data = tsne_df,\n",
    "    legend = \"full\",\n",
    "    alpha = 0.4\n",
    ")\n",
    "\n",
    "plt.title(\"tSNE\")\n",
    "\n",
    "plt.savefig('TSNE.png', bbox_inches='tight')  \n",
    "#plt.show()"
   ]
  },
  {
   "cell_type": "code",
   "execution_count": null,
   "id": "1447a799",
   "metadata": {},
   "outputs": [],
   "source": []
  },
  {
   "cell_type": "code",
   "execution_count": 5,
   "id": "a3844ad4",
   "metadata": {
    "ExecuteTime": {
     "end_time": "2023-05-04T09:54:18.061122Z",
     "start_time": "2023-05-04T09:54:06.607582Z"
    }
   },
   "outputs": [],
   "source": [
    "sample_corr = pd.DataFrame(Fake_MNIST[0].reshape(10000, 32*32).astype('float32')).corr().round(2)"
   ]
  },
  {
   "cell_type": "code",
   "execution_count": 6,
   "id": "d9975344",
   "metadata": {
    "ExecuteTime": {
     "end_time": "2023-05-04T09:54:18.064605Z",
     "start_time": "2023-05-04T09:54:18.062121Z"
    }
   },
   "outputs": [
    {
     "data": {
      "text/plain": [
       "array([[-0.9999727 , -0.99999982, -1.        , ..., -1.        ,\n",
       "        -1.        , -0.99998504],\n",
       "       [-0.99694997, -0.99999851, -1.        , ..., -1.        ,\n",
       "        -1.        , -0.99999899],\n",
       "       [-0.99992728, -1.        , -1.        , ..., -1.        ,\n",
       "        -1.        , -0.99999768],\n",
       "       ...,\n",
       "       [-0.99998182, -0.99999982, -0.99999988, ..., -0.99385726,\n",
       "        -0.99503267, -0.99755371],\n",
       "       [-0.99999988, -1.        , -1.        , ..., -0.99197996,\n",
       "        -0.98164248, -0.99854445],\n",
       "       [-0.99999231, -1.        , -1.        , ..., -0.99925196,\n",
       "        -0.99971163, -0.99957579]])"
      ]
     },
     "execution_count": 6,
     "metadata": {},
     "output_type": "execute_result"
    }
   ],
   "source": [
    "Fake_MNIST[0][0].reshape(32,32)"
   ]
  },
  {
   "cell_type": "code",
   "execution_count": 7,
   "id": "f4668bf9",
   "metadata": {
    "ExecuteTime": {
     "end_time": "2023-05-04T09:54:18.135835Z",
     "start_time": "2023-05-04T09:54:18.065820Z"
    }
   },
   "outputs": [
    {
     "data": {
      "text/plain": [
       "<matplotlib.image.AxesImage at 0x12f7bbb80>"
      ]
     },
     "execution_count": 7,
     "metadata": {},
     "output_type": "execute_result"
    },
    {
     "data": {
      "image/png": "[encoded data removed]",
      "text/plain": [
       "<Figure size 640x480 with 1 Axes>"
      ]
     },
     "metadata": {},
     "output_type": "display_data"
    }
   ],
   "source": [
    "plt.imshow(Fake_MNIST[0][0].reshape(32,32))"
   ]
  },
  {
   "cell_type": "code",
   "execution_count": 8,
   "id": "8f5a2e33",
   "metadata": {
    "ExecuteTime": {
     "end_time": "2023-05-04T09:54:18.139364Z",
     "start_time": "2023-05-04T09:54:18.136702Z"
    },
    "scrolled": true
   },
   "outputs": [],
   "source": [
    "in_img = pd.DataFrame(Fake_MNIST[0][0].reshape(32,32).astype('float32')).corr().round(2).unstack().sort_values(ascending=False)"
   ]
  },
  {
   "cell_type": "code",
   "execution_count": 9,
   "id": "541797b2",
   "metadata": {
    "ExecuteTime": {
     "end_time": "2023-05-04T09:54:18.143295Z",
     "start_time": "2023-05-04T09:54:18.140098Z"
    }
   },
   "outputs": [
    {
     "data": {
      "text/plain": [
       "27  26    0.99\n",
       "2   1     0.99\n",
       "26  27    0.99\n",
       "1   2     0.99\n",
       "7   27    0.98\n",
       "          ... \n",
       "18  3    -0.36\n",
       "31  19   -0.37\n",
       "19  31   -0.37\n",
       "18  31   -0.39\n",
       "31  18   -0.39\n",
       "Length: 992, dtype: float64"
      ]
     },
     "execution_count": 9,
     "metadata": {},
     "output_type": "execute_result"
    }
   ],
   "source": [
    "in_img[in_img < 1]"
   ]
  },
  {
   "cell_type": "code",
   "execution_count": null,
   "id": "cd80e246",
   "metadata": {},
   "outputs": [],
   "source": []
  },
  {
   "cell_type": "code",
   "execution_count": 21,
   "id": "6b9d55c9",
   "metadata": {
    "ExecuteTime": {
     "end_time": "2023-05-04T05:07:50.615408Z",
     "start_time": "2023-05-04T05:07:47.801373Z"
    }
   },
   "outputs": [
    {
     "ename": "NameError",
     "evalue": "name 'Featurizer' is not defined",
     "output_type": "error",
     "traceback": [
      "\u001b[0;31m---------------------------------------------------------------------------\u001b[0m",
      "\u001b[0;31mNameError\u001b[0m                                 Traceback (most recent call last)",
      "Cell \u001b[0;32mIn[21], line 43\u001b[0m\n\u001b[1;32m     41\u001b[0m np\u001b[38;5;241m.\u001b[39mrandom\u001b[38;5;241m.\u001b[39mseed(seed\u001b[38;5;241m=\u001b[39m\u001b[38;5;241m1102\u001b[39m \u001b[38;5;241m*\u001b[39m (kk \u001b[38;5;241m+\u001b[39m \u001b[38;5;241m10\u001b[39m) \u001b[38;5;241m+\u001b[39m N1)\n\u001b[1;32m     42\u001b[0m \u001b[38;5;66;03m# Initialize deep networks for MMD-D (called featurizer), C2ST-S and C2ST-L (called discriminator)\u001b[39;00m\n\u001b[0;32m---> 43\u001b[0m featurizer \u001b[38;5;241m=\u001b[39m \u001b[43mFeaturizer\u001b[49m()\n\u001b[1;32m     44\u001b[0m discriminator \u001b[38;5;241m=\u001b[39m Discriminator()\n\u001b[1;32m     45\u001b[0m \u001b[38;5;66;03m# Initialize parameters\u001b[39;00m\n",
      "\u001b[0;31mNameError\u001b[0m: name 'Featurizer' is not defined"
     ]
    }
   ],
   "source": [
    "# Repeat experiments K times (K = 10) and report average test power (rejection rate)\n",
    "K = 10\n",
    "N1 = 10000\n",
    "for kk in range(K):\n",
    "    torch.manual_seed(kk * 19 + N1)\n",
    "    torch.cuda.manual_seed(kk * 19 + N1)\n",
    "    np.random.seed(seed=1102 * (kk + 10) + N1)\n",
    "    # Initialize deep networks for MMD-D (called featurizer), C2ST-S and C2ST-L (called discriminator)\n",
    "    featurizer = Featurizer()\n",
    "    discriminator = Discriminator()\n",
    "    # Initialize parameters\n",
    "    epsilonOPT = torch.log(MatConvert(np.random.rand(1) * 10 ** (-10), device, dtype))\n",
    "    epsilonOPT.requires_grad = True\n",
    "    sigmaOPT = MatConvert(np.ones(1) * np.sqrt(2*32*32), device, dtype)\n",
    "    sigmaOPT.requires_grad = True\n",
    "    sigma0OPT = MatConvert(np.ones(1) * np.sqrt(0.005), device, dtype)\n",
    "    sigma0OPT.requires_grad = True\n",
    "    print(epsilonOPT.item())\n",
    "    if cuda:\n",
    "        featurizer.cuda()\n",
    "        discriminator.cuda()\n",
    "        adversarial_loss.cuda()\n",
    "\n",
    "    # Collect real MNIST images\n",
    "    np.random.seed(seed=819 * (kk + 9) + N1)\n",
    "    train_data = []\n",
    "    ind_M_all = np.arange(4000)\n",
    "    ind_M_tr = np.random.choice(4000, N1, replace=False)\n",
    "    ind_M_te = np.delete(ind_M_all,ind_M_tr)\n",
    "    for i in ind_M_tr:\n",
    "        train_data.append([data_all[i], label_all[i]])\n",
    "\n",
    "    dataloader = torch.utils.data.DataLoader(\n",
    "        train_data,\n",
    "        batch_size=opt.batch_size,\n",
    "        shuffle=True,\n",
    "    )"
   ]
  },
  {
   "cell_type": "code",
   "execution_count": 12,
   "id": "1cb90775",
   "metadata": {
    "ExecuteTime": {
     "end_time": "2023-05-04T09:55:17.737446Z",
     "start_time": "2023-05-04T09:55:17.667381Z"
    }
   },
   "outputs": [],
   "source": [
    "import torch\n",
    "import torch.nn as nn\n",
    "import torch.nn.functional as F\n",
    "import torch.optim as optim\n",
    "from torchvision import datasets, transforms\n",
    "from matplotlib import pyplot as plt"
   ]
  },
  {
   "cell_type": "code",
   "execution_count": 14,
   "id": "2b134739",
   "metadata": {
    "ExecuteTime": {
     "end_time": "2023-05-04T09:56:13.888087Z",
     "start_time": "2023-05-04T09:56:13.861407Z"
    }
   },
   "outputs": [
    {
     "ename": "AttributeError",
     "evalue": "module 'torch.backends' has no attribute 'mps'",
     "output_type": "error",
     "traceback": [
      "\u001b[0;31m---------------------------------------------------------------------------\u001b[0m",
      "\u001b[0;31mAttributeError\u001b[0m                            Traceback (most recent call last)",
      "Cell \u001b[0;32mIn[14], line 1\u001b[0m\n\u001b[0;32m----> 1\u001b[0m \u001b[38;5;28;01mif\u001b[39;00m \u001b[38;5;129;01mnot\u001b[39;00m \u001b[43mtorch\u001b[49m\u001b[38;5;241;43m.\u001b[39;49m\u001b[43mbackends\u001b[49m\u001b[38;5;241;43m.\u001b[39;49m\u001b[43mmps\u001b[49m\u001b[38;5;241m.\u001b[39mis_available():\n\u001b[1;32m      2\u001b[0m     \u001b[38;5;28;01mif\u001b[39;00m \u001b[38;5;129;01mnot\u001b[39;00m torch\u001b[38;5;241m.\u001b[39mbackends\u001b[38;5;241m.\u001b[39mmps\u001b[38;5;241m.\u001b[39mis_built():\n\u001b[1;32m      3\u001b[0m         \u001b[38;5;28mprint\u001b[39m(\u001b[38;5;124m\"\u001b[39m\u001b[38;5;124mMPS not available because the current PyTorch install was not \u001b[39m\u001b[38;5;124m\"\u001b[39m\n\u001b[1;32m      4\u001b[0m               \u001b[38;5;124m\"\u001b[39m\u001b[38;5;124mbuilt with MPS enabled.\u001b[39m\u001b[38;5;124m\"\u001b[39m)\n",
      "\u001b[0;31mAttributeError\u001b[0m: module 'torch.backends' has no attribute 'mps'"
     ]
    }
   ],
   "source": [
    "if not torch.backends.mps.is_available():\n",
    "    if not torch.backends.mps.is_built():\n",
    "        print(\"MPS not available because the current PyTorch install was not \"\n",
    "              \"built with MPS enabled.\")\n",
    "    else:\n",
    "        print(\"MPS not available because the current MacOS version is not 12.3+ \"\n",
    "              \"and/or you do not have an MPS-enabled device on this machine.\")\n",
    "\n",
    "else:\n",
    "    mps_device = torch.device(\"mps\")"
   ]
  },
  {
   "cell_type": "code",
   "execution_count": 15,
   "id": "1c895ab9",
   "metadata": {
    "ExecuteTime": {
     "end_time": "2023-05-04T09:56:49.189764Z",
     "start_time": "2023-05-04T09:56:49.162661Z"
    }
   },
   "outputs": [
    {
     "ename": "AttributeError",
     "evalue": "module 'torch.backends' has no attribute 'mps'",
     "output_type": "error",
     "traceback": [
      "\u001b[0;31m---------------------------------------------------------------------------\u001b[0m",
      "\u001b[0;31mAttributeError\u001b[0m                            Traceback (most recent call last)",
      "Cell \u001b[0;32mIn[15], line 1\u001b[0m\n\u001b[0;32m----> 1\u001b[0m \u001b[38;5;28;01mif\u001b[39;00m \u001b[38;5;129;01mnot\u001b[39;00m \u001b[43mtorch\u001b[49m\u001b[38;5;241;43m.\u001b[39;49m\u001b[43mbackends\u001b[49m\u001b[38;5;241;43m.\u001b[39;49m\u001b[43mmps\u001b[49m\u001b[38;5;241m.\u001b[39mis_available():\n\u001b[1;32m      2\u001b[0m     \u001b[38;5;28;01mif\u001b[39;00m \u001b[38;5;129;01mnot\u001b[39;00m torch\u001b[38;5;241m.\u001b[39mbackends\u001b[38;5;241m.\u001b[39mmps\u001b[38;5;241m.\u001b[39mis_built():\n\u001b[1;32m      3\u001b[0m         \u001b[38;5;28mprint\u001b[39m(\u001b[38;5;124m\"\u001b[39m\u001b[38;5;124mMPS not available because the current PyTorch install was not \u001b[39m\u001b[38;5;124m\"\u001b[39m\n\u001b[1;32m      4\u001b[0m               \u001b[38;5;124m\"\u001b[39m\u001b[38;5;124mbuilt with MPS enabled.\u001b[39m\u001b[38;5;124m\"\u001b[39m)\n",
      "\u001b[0;31mAttributeError\u001b[0m: module 'torch.backends' has no attribute 'mps'"
     ]
    }
   ],
   "source": [
    "if not torch.backends.mps.is_available():\n",
    "    if not torch.backends.mps.is_built():\n",
    "        print(\"MPS not available because the current PyTorch install was not \"\n",
    "              \"built with MPS enabled.\")\n",
    "    else:\n",
    "        print(\"MPS not available because the current MacOS version is not 12.3+ \"\n",
    "              \"and/or you do not have an MPS-enabled device on this machine.\")\n",
    "\n",
    "else:\n",
    "    mps_device = torch.device(\"mps\")"
   ]
  },
  {
   "cell_type": "code",
   "execution_count": 16,
   "id": "de96703d",
   "metadata": {
    "ExecuteTime": {
     "end_time": "2023-05-04T09:56:59.327959Z",
     "start_time": "2023-05-04T09:56:59.322232Z"
    }
   },
   "outputs": [
    {
     "data": {
      "text/plain": [
       "'1.9.0.post2'"
      ]
     },
     "execution_count": 16,
     "metadata": {},
     "output_type": "execute_result"
    }
   ],
   "source": [
    "torch.__version__"
   ]
  },
  {
   "cell_type": "code",
   "execution_count": 49,
   "id": "3b6cab25",
   "metadata": {
    "ExecuteTime": {
     "end_time": "2023-05-04T15:56:08.685201Z",
     "start_time": "2023-05-04T15:56:08.659307Z"
    }
   },
   "outputs": [],
   "source": [
    "import torch\n",
    "import torchvision\n",
    "import matplotlib.pyplot as plt\n",
    "\n",
    "# Load the MNIST dataset\n",
    "transform = torchvision.transforms.Compose([\n",
    "    torchvision.transforms.ToTensor(),\n",
    "    torchvision.transforms.Normalize((0.5,), (0.5,))\n",
    "])\n",
    "dataset = torchvision.datasets.MNIST(root='./data', train=True, transform=transform, download=True)\n",
    "\n",
    "# Count the frequency of each label\n",
    "label_counts = torch.bincount(dataset.targets)\n",
    "\n"
   ]
  },
  {
   "cell_type": "code",
   "execution_count": 51,
   "id": "cf7068ca",
   "metadata": {
    "ExecuteTime": {
     "end_time": "2023-05-04T15:56:41.519397Z",
     "start_time": "2023-05-04T15:56:41.507798Z"
    }
   },
   "outputs": [
    {
     "data": {
      "text/plain": [
       "tensor([[[0, 0, 0,  ..., 0, 0, 0],\n",
       "         [0, 0, 0,  ..., 0, 0, 0],\n",
       "         [0, 0, 0,  ..., 0, 0, 0],\n",
       "         ...,\n",
       "         [0, 0, 0,  ..., 0, 0, 0],\n",
       "         [0, 0, 0,  ..., 0, 0, 0],\n",
       "         [0, 0, 0,  ..., 0, 0, 0]],\n",
       "\n",
       "        [[0, 0, 0,  ..., 0, 0, 0],\n",
       "         [0, 0, 0,  ..., 0, 0, 0],\n",
       "         [0, 0, 0,  ..., 0, 0, 0],\n",
       "         ...,\n",
       "         [0, 0, 0,  ..., 0, 0, 0],\n",
       "         [0, 0, 0,  ..., 0, 0, 0],\n",
       "         [0, 0, 0,  ..., 0, 0, 0]],\n",
       "\n",
       "        [[0, 0, 0,  ..., 0, 0, 0],\n",
       "         [0, 0, 0,  ..., 0, 0, 0],\n",
       "         [0, 0, 0,  ..., 0, 0, 0],\n",
       "         ...,\n",
       "         [0, 0, 0,  ..., 0, 0, 0],\n",
       "         [0, 0, 0,  ..., 0, 0, 0],\n",
       "         [0, 0, 0,  ..., 0, 0, 0]],\n",
       "\n",
       "        ...,\n",
       "\n",
       "        [[0, 0, 0,  ..., 0, 0, 0],\n",
       "         [0, 0, 0,  ..., 0, 0, 0],\n",
       "         [0, 0, 0,  ..., 0, 0, 0],\n",
       "         ...,\n",
       "         [0, 0, 0,  ..., 0, 0, 0],\n",
       "         [0, 0, 0,  ..., 0, 0, 0],\n",
       "         [0, 0, 0,  ..., 0, 0, 0]],\n",
       "\n",
       "        [[0, 0, 0,  ..., 0, 0, 0],\n",
       "         [0, 0, 0,  ..., 0, 0, 0],\n",
       "         [0, 0, 0,  ..., 0, 0, 0],\n",
       "         ...,\n",
       "         [0, 0, 0,  ..., 0, 0, 0],\n",
       "         [0, 0, 0,  ..., 0, 0, 0],\n",
       "         [0, 0, 0,  ..., 0, 0, 0]],\n",
       "\n",
       "        [[0, 0, 0,  ..., 0, 0, 0],\n",
       "         [0, 0, 0,  ..., 0, 0, 0],\n",
       "         [0, 0, 0,  ..., 0, 0, 0],\n",
       "         ...,\n",
       "         [0, 0, 0,  ..., 0, 0, 0],\n",
       "         [0, 0, 0,  ..., 0, 0, 0],\n",
       "         [0, 0, 0,  ..., 0, 0, 0]]], dtype=torch.uint8)"
      ]
     },
     "execution_count": 51,
     "metadata": {},
     "output_type": "execute_result"
    }
   ],
   "source": [
    "dataset.data"
   ]
  },
  {
   "cell_type": "code",
   "execution_count": 18,
   "id": "6225edf5",
   "metadata": {
    "ExecuteTime": {
     "end_time": "2023-05-04T11:05:24.305450Z",
     "start_time": "2023-05-04T11:05:24.201530Z"
    }
   },
   "outputs": [
    {
     "data": {
      "image/png": "[encoded data removed]",
      "text/plain": [
       "<Figure size 640x480 with 1 Axes>"
      ]
     },
     "metadata": {},
     "output_type": "display_data"
    }
   ],
   "source": [
    "# Plot the histogram\n",
    "plt.bar(range(10), label_counts)\n",
    "plt.xticks(range(10))\n",
    "plt.xlabel('Label')\n",
    "plt.ylabel('Frequency')\n",
    "plt.title('Distribution of MNIST Data')\n",
    "plt.show()\n"
   ]
  },
  {
   "cell_type": "code",
   "execution_count": 19,
   "id": "34fc2364",
   "metadata": {
    "ExecuteTime": {
     "end_time": "2023-05-04T11:07:07.050191Z",
     "start_time": "2023-05-04T11:07:04.876159Z"
    }
   },
   "outputs": [
    {
     "data": {
      "image/png": "[encoded data removed]",
      "text/plain": [
       "<Figure size 640x480 with 1 Axes>"
      ]
     },
     "metadata": {},
     "output_type": "display_data"
    }
   ],
   "source": [
    "import torch\n",
    "import torchvision\n",
    "import matplotlib.pyplot as plt\n",
    "\n",
    "# Load the MNIST dataset\n",
    "transform = torchvision.transforms.Compose([\n",
    "    torchvision.transforms.ToTensor(),\n",
    "    torchvision.transforms.Normalize((0.1307,), (0.3081,))\n",
    "])\n",
    "dataset = torchvision.datasets.MNIST(root='./data', train=True, transform=transform, download=True)\n",
    "\n",
    "# Flatten the images and stack them into a single tensor\n",
    "images = torch.stack([img.view(-1) for img, label in dataset])\n",
    "\n",
    "# Plot the histogram\n",
    "plt.hist(images.numpy().flatten(), bins=256, range=(0, 1))\n",
    "plt.xlabel('Pixel Value')\n",
    "plt.ylabel('Frequency')\n",
    "plt.title('Pixel Distribution of MNIST Data')\n",
    "plt.show()\n"
   ]
  },
  {
   "cell_type": "code",
   "execution_count": 47,
   "id": "2de79142",
   "metadata": {
    "ExecuteTime": {
     "end_time": "2023-05-04T15:54:01.283413Z",
     "start_time": "2023-05-04T15:53:59.530518Z"
    }
   },
   "outputs": [],
   "source": [
    "i = [img.view(-1) for img, label in dataset]"
   ]
  },
  {
   "cell_type": "code",
   "execution_count": 43,
   "id": "50660be4",
   "metadata": {
    "ExecuteTime": {
     "end_time": "2023-05-04T15:51:20.340441Z",
     "start_time": "2023-05-04T15:51:19.694759Z"
    }
   },
   "outputs": [
    {
     "data": {
      "text/plain": [
       "array([[<Axes: title={'center': '0'}>]], dtype=object)"
      ]
     },
     "execution_count": 43,
     "metadata": {},
     "output_type": "execute_result"
    },
    {
     "data": {
      "image/png": "[encoded data removed]",
      "text/plain": [
       "<Figure size 640x480 with 1 Axes>"
      ]
     },
     "metadata": {},
     "output_type": "display_data"
    }
   ],
   "source": [
    "pd.DataFrame(images.numpy().flatten()).hist()"
   ]
  },
  {
   "cell_type": "code",
   "execution_count": 48,
   "id": "20cf9e44",
   "metadata": {
    "ExecuteTime": {
     "end_time": "2023-05-04T15:54:04.748962Z",
     "start_time": "2023-05-04T15:54:04.733670Z"
    }
   },
   "outputs": [
    {
     "data": {
      "text/plain": [
       "tensor([-0.4242, -0.4242, -0.4242, -0.4242, -0.4242, -0.4242, -0.4242, -0.4242,\n",
       "        -0.4242, -0.4242, -0.4242, -0.4242, -0.4242, -0.4242, -0.4242, -0.4242,\n",
       "        -0.4242, -0.4242, -0.4242, -0.4242, -0.4242, -0.4242, -0.4242, -0.4242,\n",
       "        -0.4242, -0.4242, -0.4242, -0.4242, -0.4242, -0.4242, -0.4242, -0.4242,\n",
       "        -0.4242, -0.4242, -0.4242, -0.4242, -0.4242, -0.4242, -0.4242, -0.4242,\n",
       "        -0.4242, -0.4242, -0.4242, -0.4242, -0.4242, -0.4242, -0.4242, -0.4242,\n",
       "        -0.4242, -0.4242, -0.4242, -0.4242, -0.4242, -0.4242, -0.4242, -0.4242,\n",
       "        -0.4242, -0.4242, -0.4242, -0.4242, -0.4242, -0.4242, -0.4242, -0.4242,\n",
       "        -0.4242, -0.4242, -0.4242, -0.4242, -0.4242, -0.4242, -0.4242, -0.4242,\n",
       "        -0.4242, -0.4242, -0.4242, -0.4242, -0.4242, -0.4242, -0.4242, -0.4242,\n",
       "        -0.4242, -0.4242, -0.4242, -0.4242, -0.4242, -0.4242, -0.4242, -0.4242,\n",
       "        -0.4242, -0.4242, -0.4242, -0.4242, -0.4242, -0.4242, -0.4242, -0.4242,\n",
       "        -0.4242, -0.4242, -0.4242, -0.4242, -0.4242, -0.4242, -0.4242, -0.4242,\n",
       "        -0.4242, -0.4242, -0.4242, -0.4242, -0.4242, -0.4242, -0.4242, -0.4242,\n",
       "        -0.4242, -0.4242, -0.4242, -0.4242, -0.4242, -0.4242, -0.4242, -0.4242,\n",
       "        -0.4242, -0.4242, -0.4242, -0.4242, -0.4242, -0.4242, -0.4242, -0.4242,\n",
       "        -0.4242, -0.4242, -0.4242, -0.4242, -0.4242, -0.4242, -0.4242, -0.4242,\n",
       "        -0.4242, -0.4242, -0.4242, -0.4242, -0.4242, -0.4242, -0.4242, -0.4242,\n",
       "        -0.4242, -0.4242, -0.4242, -0.4242, -0.4242, -0.4242, -0.4242, -0.4242,\n",
       "        -0.3860, -0.1951, -0.1951, -0.1951,  1.1795,  1.3068,  1.8032, -0.0933,\n",
       "         1.6887,  2.8215,  2.7197,  1.1923, -0.4242, -0.4242, -0.4242, -0.4242,\n",
       "        -0.4242, -0.4242, -0.4242, -0.4242, -0.4242, -0.4242, -0.4242, -0.4242,\n",
       "        -0.0424,  0.0340,  0.7722,  1.5359,  1.7396,  2.7960,  2.7960,  2.7960,\n",
       "         2.7960,  2.7960,  2.4396,  1.7650,  2.7960,  2.6560,  2.0578,  0.3904,\n",
       "        -0.4242, -0.4242, -0.4242, -0.4242, -0.4242, -0.4242, -0.4242, -0.4242,\n",
       "        -0.4242, -0.4242, -0.4242,  0.1995,  2.6051,  2.7960,  2.7960,  2.7960,\n",
       "         2.7960,  2.7960,  2.7960,  2.7960,  2.7960,  2.7706,  0.7595,  0.6195,\n",
       "         0.6195,  0.2886,  0.0722, -0.4242, -0.4242, -0.4242, -0.4242, -0.4242,\n",
       "        -0.4242, -0.4242, -0.4242, -0.4242, -0.4242, -0.4242, -0.4242, -0.1951,\n",
       "         2.3633,  2.7960,  2.7960,  2.7960,  2.7960,  2.7960,  2.0960,  1.8923,\n",
       "         2.7197,  2.6433, -0.4242, -0.4242, -0.4242, -0.4242, -0.4242, -0.4242,\n",
       "        -0.4242, -0.4242, -0.4242, -0.4242, -0.4242, -0.4242, -0.4242, -0.4242,\n",
       "        -0.4242, -0.4242, -0.4242, -0.4242,  0.5940,  1.5614,  0.9377,  2.7960,\n",
       "         2.7960,  2.1851, -0.2842, -0.4242,  0.1231,  1.5359, -0.4242, -0.4242,\n",
       "        -0.4242, -0.4242, -0.4242, -0.4242, -0.4242, -0.4242, -0.4242, -0.4242,\n",
       "        -0.4242, -0.4242, -0.4242, -0.4242, -0.4242, -0.4242, -0.4242, -0.4242,\n",
       "        -0.4242, -0.2460, -0.4115,  1.5359,  2.7960,  0.7213, -0.4242, -0.4242,\n",
       "        -0.4242, -0.4242, -0.4242, -0.4242, -0.4242, -0.4242, -0.4242, -0.4242,\n",
       "        -0.4242, -0.4242, -0.4242, -0.4242, -0.4242, -0.4242, -0.4242, -0.4242,\n",
       "        -0.4242, -0.4242, -0.4242, -0.4242, -0.4242, -0.4242, -0.4242,  1.3450,\n",
       "         2.7960,  1.9942, -0.3988, -0.4242, -0.4242, -0.4242, -0.4242, -0.4242,\n",
       "        -0.4242, -0.4242, -0.4242, -0.4242, -0.4242, -0.4242, -0.4242, -0.4242,\n",
       "        -0.4242, -0.4242, -0.4242, -0.4242, -0.4242, -0.4242, -0.4242, -0.4242,\n",
       "        -0.4242, -0.4242, -0.4242, -0.2842,  1.9942,  2.7960,  0.4668, -0.4242,\n",
       "        -0.4242, -0.4242, -0.4242, -0.4242, -0.4242, -0.4242, -0.4242, -0.4242,\n",
       "        -0.4242, -0.4242, -0.4242, -0.4242, -0.4242, -0.4242, -0.4242, -0.4242,\n",
       "        -0.4242, -0.4242, -0.4242, -0.4242, -0.4242, -0.4242, -0.4242, -0.4242,\n",
       "         0.0213,  2.6433,  2.4396,  1.6123,  0.9504, -0.4115, -0.4242, -0.4242,\n",
       "        -0.4242, -0.4242, -0.4242, -0.4242, -0.4242, -0.4242, -0.4242, -0.4242,\n",
       "        -0.4242, -0.4242, -0.4242, -0.4242, -0.4242, -0.4242, -0.4242, -0.4242,\n",
       "        -0.4242, -0.4242, -0.4242, -0.4242, -0.4242,  0.6068,  2.6306,  2.7960,\n",
       "         2.7960,  1.0904, -0.1060, -0.4242, -0.4242, -0.4242, -0.4242, -0.4242,\n",
       "        -0.4242, -0.4242, -0.4242, -0.4242, -0.4242, -0.4242, -0.4242, -0.4242,\n",
       "        -0.4242, -0.4242, -0.4242, -0.4242, -0.4242, -0.4242, -0.4242, -0.4242,\n",
       "        -0.4242, -0.4242,  0.1486,  1.9432,  2.7960,  2.7960,  1.4850, -0.0806,\n",
       "        -0.4242, -0.4242, -0.4242, -0.4242, -0.4242, -0.4242, -0.4242, -0.4242,\n",
       "        -0.4242, -0.4242, -0.4242, -0.4242, -0.4242, -0.4242, -0.4242, -0.4242,\n",
       "        -0.4242, -0.4242, -0.4242, -0.4242, -0.4242, -0.4242, -0.4242, -0.2206,\n",
       "         0.7595,  2.7833,  2.7960,  1.9560, -0.4242, -0.4242, -0.4242, -0.4242,\n",
       "        -0.4242, -0.4242, -0.4242, -0.4242, -0.4242, -0.4242, -0.4242, -0.4242,\n",
       "        -0.4242, -0.4242, -0.4242, -0.4242, -0.4242, -0.4242, -0.4242, -0.4242,\n",
       "        -0.4242, -0.4242, -0.4242, -0.4242, -0.4242,  2.7451,  2.7960,  2.7451,\n",
       "         0.3904, -0.4242, -0.4242, -0.4242, -0.4242, -0.4242, -0.4242, -0.4242,\n",
       "        -0.4242, -0.4242, -0.4242, -0.4242, -0.4242, -0.4242, -0.4242, -0.4242,\n",
       "        -0.4242, -0.4242, -0.4242, -0.4242, -0.4242, -0.4242,  0.1613,  1.2305,\n",
       "         1.9051,  2.7960,  2.7960,  2.2105, -0.3988, -0.4242, -0.4242, -0.4242,\n",
       "        -0.4242, -0.4242, -0.4242, -0.4242, -0.4242, -0.4242, -0.4242, -0.4242,\n",
       "        -0.4242, -0.4242, -0.4242, -0.4242, -0.4242, -0.4242, -0.4242, -0.4242,\n",
       "         0.0722,  1.4596,  2.4906,  2.7960,  2.7960,  2.7960,  2.7578,  1.8923,\n",
       "        -0.4242, -0.4242, -0.4242, -0.4242, -0.4242, -0.4242, -0.4242, -0.4242,\n",
       "        -0.4242, -0.4242, -0.4242, -0.4242, -0.4242, -0.4242, -0.4242, -0.4242,\n",
       "        -0.4242, -0.4242, -0.1187,  1.0268,  2.3887,  2.7960,  2.7960,  2.7960,\n",
       "         2.7960,  2.1342,  0.5686, -0.4242, -0.4242, -0.4242, -0.4242, -0.4242,\n",
       "        -0.4242, -0.4242, -0.4242, -0.4242, -0.4242, -0.4242, -0.4242, -0.4242,\n",
       "        -0.4242, -0.4242, -0.4242, -0.4242, -0.1315,  0.4159,  2.2869,  2.7960,\n",
       "         2.7960,  2.7960,  2.7960,  2.0960,  0.6068, -0.3988, -0.4242, -0.4242,\n",
       "        -0.4242, -0.4242, -0.4242, -0.4242, -0.4242, -0.4242, -0.4242, -0.4242,\n",
       "        -0.4242, -0.4242, -0.4242, -0.4242, -0.4242, -0.4242, -0.1951,  1.7523,\n",
       "         2.3633,  2.7960,  2.7960,  2.7960,  2.7960,  2.0578,  0.5940, -0.3097,\n",
       "        -0.4242, -0.4242, -0.4242, -0.4242, -0.4242, -0.4242, -0.4242, -0.4242,\n",
       "        -0.4242, -0.4242, -0.4242, -0.4242, -0.4242, -0.4242, -0.4242, -0.4242,\n",
       "         0.2758,  1.7650,  2.4524,  2.7960,  2.7960,  2.7960,  2.7960,  2.6815,\n",
       "         1.2686, -0.2842, -0.4242, -0.4242, -0.4242, -0.4242, -0.4242, -0.4242,\n",
       "        -0.4242, -0.4242, -0.4242, -0.4242, -0.4242, -0.4242, -0.4242, -0.4242,\n",
       "        -0.4242, -0.4242, -0.4242, -0.4242,  1.3068,  2.7960,  2.7960,  2.7960,\n",
       "         2.2742,  1.2941,  1.2559, -0.2206, -0.4242, -0.4242, -0.4242, -0.4242,\n",
       "        -0.4242, -0.4242, -0.4242, -0.4242, -0.4242, -0.4242, -0.4242, -0.4242,\n",
       "        -0.4242, -0.4242, -0.4242, -0.4242, -0.4242, -0.4242, -0.4242, -0.4242,\n",
       "        -0.4242, -0.4242, -0.4242, -0.4242, -0.4242, -0.4242, -0.4242, -0.4242,\n",
       "        -0.4242, -0.4242, -0.4242, -0.4242, -0.4242, -0.4242, -0.4242, -0.4242,\n",
       "        -0.4242, -0.4242, -0.4242, -0.4242, -0.4242, -0.4242, -0.4242, -0.4242,\n",
       "        -0.4242, -0.4242, -0.4242, -0.4242, -0.4242, -0.4242, -0.4242, -0.4242,\n",
       "        -0.4242, -0.4242, -0.4242, -0.4242, -0.4242, -0.4242, -0.4242, -0.4242,\n",
       "        -0.4242, -0.4242, -0.4242, -0.4242, -0.4242, -0.4242, -0.4242, -0.4242,\n",
       "        -0.4242, -0.4242, -0.4242, -0.4242, -0.4242, -0.4242, -0.4242, -0.4242,\n",
       "        -0.4242, -0.4242, -0.4242, -0.4242, -0.4242, -0.4242, -0.4242, -0.4242,\n",
       "        -0.4242, -0.4242, -0.4242, -0.4242, -0.4242, -0.4242, -0.4242, -0.4242,\n",
       "        -0.4242, -0.4242, -0.4242, -0.4242, -0.4242, -0.4242, -0.4242, -0.4242])"
      ]
     },
     "execution_count": 48,
     "metadata": {},
     "output_type": "execute_result"
    }
   ],
   "source": [
    "i[0]"
   ]
  },
  {
   "cell_type": "code",
   "execution_count": null,
   "id": "5726d3ae",
   "metadata": {},
   "outputs": [],
   "source": []
  }
 ],
 "metadata": {
  "kernelspec": {
   "display_name": "Python 3 (ipykernel)",
   "language": "python",
   "name": "python3"
  },
  "language_info": {
   "codemirror_mode": {
    "name": "ipython",
    "version": 3
   },
   "file_extension": ".py",
   "mimetype": "text/x-python",
   "name": "python",
   "nbconvert_exporter": "python",
   "pygments_lexer": "ipython3",
   "version": "3.8.16"
  },
  "toc": {
   "base_numbering": 1,
   "nav_menu": {},
   "number_sections": true,
   "sideBar": true,
   "skip_h1_title": false,
   "title_cell": "Table of Contents",
   "title_sidebar": "Contents",
   "toc_cell": false,
   "toc_position": {},
   "toc_section_display": true,
   "toc_window_display": false
  }
 },
 "nbformat": 4,
 "nbformat_minor": 5
}
