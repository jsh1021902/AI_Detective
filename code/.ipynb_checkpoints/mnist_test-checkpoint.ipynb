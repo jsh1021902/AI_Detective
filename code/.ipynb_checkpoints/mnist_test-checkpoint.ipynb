{
 "cells": [
  {
   "cell_type": "code",
   "execution_count": 1,
   "id": "dfd64653",
   "metadata": {
    "ExecuteTime": {
     "end_time": "2023-05-04T09:54:04.449995Z",
     "start_time": "2023-05-04T09:54:04.212956Z"
    }
   },
   "outputs": [],
   "source": [
    "import os\n",
    "import numpy as np\n",
    "import pandas as pd\n",
    "import pickle"
   ]
  },
  {
   "cell_type": "code",
   "execution_count": 2,
   "id": "e561bf5a",
   "metadata": {
    "ExecuteTime": {
     "end_time": "2023-05-04T09:54:04.784101Z",
     "start_time": "2023-05-04T09:54:04.581405Z"
    }
   },
   "outputs": [],
   "source": [
    "import matplotlib.pyplot as plt"
   ]
  },
  {
   "cell_type": "code",
   "execution_count": 3,
   "id": "3af00c69",
   "metadata": {
    "ExecuteTime": {
     "end_time": "2023-05-04T09:54:05.579381Z",
     "start_time": "2023-05-04T09:54:05.544068Z"
    }
   },
   "outputs": [],
   "source": [
    "# Collect fake MNIST images\n",
    "Fake_MNIST = pickle.load(open('./Fake_MNIST_data_EP100_N10000.pckl', 'rb'))"
   ]
  },
  {
   "cell_type": "code",
   "execution_count": 4,
   "id": "55c11aac",
   "metadata": {
    "ExecuteTime": {
     "end_time": "2023-05-04T09:54:06.606408Z",
     "start_time": "2023-05-04T09:54:05.824520Z"
    }
   },
   "outputs": [
    {
     "data": {
      "text/html": [
       "<div>\n",
       "<style scoped>\n",
       "    .dataframe tbody tr th:only-of-type {\n",
       "        vertical-align: middle;\n",
       "    }\n",
       "\n",
       "    .dataframe tbody tr th {\n",
       "        vertical-align: top;\n",
       "    }\n",
       "\n",
       "    .dataframe thead th {\n",
       "        text-align: right;\n",
       "    }\n",
       "</style>\n",
       "<table border=\"1\" class=\"dataframe\">\n",
       "  <thead>\n",
       "    <tr style=\"text-align: right;\">\n",
       "      <th></th>\n",
       "      <th>0</th>\n",
       "      <th>1</th>\n",
       "      <th>2</th>\n",
       "      <th>3</th>\n",
       "      <th>4</th>\n",
       "      <th>5</th>\n",
       "      <th>6</th>\n",
       "      <th>7</th>\n",
       "      <th>8</th>\n",
       "      <th>9</th>\n",
       "      <th>...</th>\n",
       "      <th>1014</th>\n",
       "      <th>1015</th>\n",
       "      <th>1016</th>\n",
       "      <th>1017</th>\n",
       "      <th>1018</th>\n",
       "      <th>1019</th>\n",
       "      <th>1020</th>\n",
       "      <th>1021</th>\n",
       "      <th>1022</th>\n",
       "      <th>1023</th>\n",
       "    </tr>\n",
       "  </thead>\n",
       "  <tbody>\n",
       "    <tr>\n",
       "      <th>count</th>\n",
       "      <td>10000.000000</td>\n",
       "      <td>10000.000000</td>\n",
       "      <td>10000.000000</td>\n",
       "      <td>10000.000000</td>\n",
       "      <td>10000.000000</td>\n",
       "      <td>10000.000000</td>\n",
       "      <td>10000.000000</td>\n",
       "      <td>10000.000000</td>\n",
       "      <td>10000.000000</td>\n",
       "      <td>10000.000000</td>\n",
       "      <td>...</td>\n",
       "      <td>10000.000000</td>\n",
       "      <td>10000.000000</td>\n",
       "      <td>10000.000000</td>\n",
       "      <td>10000.000000</td>\n",
       "      <td>10000.000000</td>\n",
       "      <td>10000.000000</td>\n",
       "      <td>10000.000000</td>\n",
       "      <td>10000.000000</td>\n",
       "      <td>10000.000000</td>\n",
       "      <td>10000.000000</td>\n",
       "    </tr>\n",
       "    <tr>\n",
       "      <th>mean</th>\n",
       "      <td>-0.997014</td>\n",
       "      <td>-0.998927</td>\n",
       "      <td>-0.998829</td>\n",
       "      <td>-0.998883</td>\n",
       "      <td>-0.998326</td>\n",
       "      <td>-0.995890</td>\n",
       "      <td>-0.996643</td>\n",
       "      <td>-0.994833</td>\n",
       "      <td>-0.996515</td>\n",
       "      <td>-0.998469</td>\n",
       "      <td>...</td>\n",
       "      <td>-0.993143</td>\n",
       "      <td>-0.987315</td>\n",
       "      <td>-0.990555</td>\n",
       "      <td>-0.994025</td>\n",
       "      <td>-0.996376</td>\n",
       "      <td>-0.997216</td>\n",
       "      <td>-0.997730</td>\n",
       "      <td>-0.999465</td>\n",
       "      <td>-0.999712</td>\n",
       "      <td>-0.982177</td>\n",
       "    </tr>\n",
       "    <tr>\n",
       "      <th>std</th>\n",
       "      <td>0.009507</td>\n",
       "      <td>0.004742</td>\n",
       "      <td>0.004507</td>\n",
       "      <td>0.005142</td>\n",
       "      <td>0.008949</td>\n",
       "      <td>0.018943</td>\n",
       "      <td>0.014030</td>\n",
       "      <td>0.021462</td>\n",
       "      <td>0.015626</td>\n",
       "      <td>0.007453</td>\n",
       "      <td>...</td>\n",
       "      <td>0.043699</td>\n",
       "      <td>0.083057</td>\n",
       "      <td>0.064083</td>\n",
       "      <td>0.044608</td>\n",
       "      <td>0.031719</td>\n",
       "      <td>0.023372</td>\n",
       "      <td>0.020007</td>\n",
       "      <td>0.005553</td>\n",
       "      <td>0.002374</td>\n",
       "      <td>0.031838</td>\n",
       "    </tr>\n",
       "    <tr>\n",
       "      <th>min</th>\n",
       "      <td>-1.000000</td>\n",
       "      <td>-1.000000</td>\n",
       "      <td>-1.000000</td>\n",
       "      <td>-1.000000</td>\n",
       "      <td>-1.000000</td>\n",
       "      <td>-1.000000</td>\n",
       "      <td>-1.000000</td>\n",
       "      <td>-1.000000</td>\n",
       "      <td>-1.000000</td>\n",
       "      <td>-1.000000</td>\n",
       "      <td>...</td>\n",
       "      <td>-1.000000</td>\n",
       "      <td>-1.000000</td>\n",
       "      <td>-1.000000</td>\n",
       "      <td>-1.000000</td>\n",
       "      <td>-1.000000</td>\n",
       "      <td>-1.000000</td>\n",
       "      <td>-1.000000</td>\n",
       "      <td>-1.000000</td>\n",
       "      <td>-1.000000</td>\n",
       "      <td>-0.999993</td>\n",
       "    </tr>\n",
       "    <tr>\n",
       "      <th>25%</th>\n",
       "      <td>-0.999999</td>\n",
       "      <td>-1.000000</td>\n",
       "      <td>-1.000000</td>\n",
       "      <td>-1.000000</td>\n",
       "      <td>-1.000000</td>\n",
       "      <td>-0.999999</td>\n",
       "      <td>-0.999998</td>\n",
       "      <td>-0.999996</td>\n",
       "      <td>-0.999995</td>\n",
       "      <td>-0.999996</td>\n",
       "      <td>...</td>\n",
       "      <td>-0.999997</td>\n",
       "      <td>-0.999998</td>\n",
       "      <td>-0.999999</td>\n",
       "      <td>-0.999999</td>\n",
       "      <td>-0.999999</td>\n",
       "      <td>-0.999999</td>\n",
       "      <td>-0.999999</td>\n",
       "      <td>-0.999999</td>\n",
       "      <td>-0.999997</td>\n",
       "      <td>-0.997726</td>\n",
       "    </tr>\n",
       "    <tr>\n",
       "      <th>50%</th>\n",
       "      <td>-0.999978</td>\n",
       "      <td>-1.000000</td>\n",
       "      <td>-0.999999</td>\n",
       "      <td>-0.999997</td>\n",
       "      <td>-0.999990</td>\n",
       "      <td>-0.999964</td>\n",
       "      <td>-0.999947</td>\n",
       "      <td>-0.999921</td>\n",
       "      <td>-0.999917</td>\n",
       "      <td>-0.999946</td>\n",
       "      <td>...</td>\n",
       "      <td>-0.999960</td>\n",
       "      <td>-0.999969</td>\n",
       "      <td>-0.999978</td>\n",
       "      <td>-0.999978</td>\n",
       "      <td>-0.999982</td>\n",
       "      <td>-0.999978</td>\n",
       "      <td>-0.999985</td>\n",
       "      <td>-0.999993</td>\n",
       "      <td>-0.999985</td>\n",
       "      <td>-0.992908</td>\n",
       "    </tr>\n",
       "    <tr>\n",
       "      <th>75%</th>\n",
       "      <td>-0.998991</td>\n",
       "      <td>-0.999956</td>\n",
       "      <td>-0.999905</td>\n",
       "      <td>-0.999797</td>\n",
       "      <td>-0.999688</td>\n",
       "      <td>-0.999209</td>\n",
       "      <td>-0.999186</td>\n",
       "      <td>-0.998720</td>\n",
       "      <td>-0.998969</td>\n",
       "      <td>-0.999509</td>\n",
       "      <td>...</td>\n",
       "      <td>-0.999486</td>\n",
       "      <td>-0.999472</td>\n",
       "      <td>-0.999585</td>\n",
       "      <td>-0.999650</td>\n",
       "      <td>-0.999718</td>\n",
       "      <td>-0.999692</td>\n",
       "      <td>-0.999781</td>\n",
       "      <td>-0.999932</td>\n",
       "      <td>-0.999918</td>\n",
       "      <td>-0.980099</td>\n",
       "    </tr>\n",
       "    <tr>\n",
       "      <th>max</th>\n",
       "      <td>-0.777169</td>\n",
       "      <td>-0.893969</td>\n",
       "      <td>-0.923162</td>\n",
       "      <td>-0.799416</td>\n",
       "      <td>-0.670059</td>\n",
       "      <td>-0.519979</td>\n",
       "      <td>-0.522574</td>\n",
       "      <td>-0.503956</td>\n",
       "      <td>-0.553487</td>\n",
       "      <td>-0.827810</td>\n",
       "      <td>...</td>\n",
       "      <td>0.031640</td>\n",
       "      <td>0.572610</td>\n",
       "      <td>0.441620</td>\n",
       "      <td>0.259027</td>\n",
       "      <td>0.443376</td>\n",
       "      <td>-0.034209</td>\n",
       "      <td>-0.151669</td>\n",
       "      <td>-0.717535</td>\n",
       "      <td>-0.855124</td>\n",
       "      <td>-0.163544</td>\n",
       "    </tr>\n",
       "  </tbody>\n",
       "</table>\n",
       "<p>8 rows × 1024 columns</p>\n",
       "</div>"
      ],
      "text/plain": [
       "               0             1             2             3             4      \n",
       "count  10000.000000  10000.000000  10000.000000  10000.000000  10000.000000  \\\n",
       "mean      -0.997014     -0.998927     -0.998829     -0.998883     -0.998326   \n",
       "std        0.009507      0.004742      0.004507      0.005142      0.008949   \n",
       "min       -1.000000     -1.000000     -1.000000     -1.000000     -1.000000   \n",
       "25%       -0.999999     -1.000000     -1.000000     -1.000000     -1.000000   \n",
       "50%       -0.999978     -1.000000     -0.999999     -0.999997     -0.999990   \n",
       "75%       -0.998991     -0.999956     -0.999905     -0.999797     -0.999688   \n",
       "max       -0.777169     -0.893969     -0.923162     -0.799416     -0.670059   \n",
       "\n",
       "               5             6             7             8             9      \n",
       "count  10000.000000  10000.000000  10000.000000  10000.000000  10000.000000  \\\n",
       "mean      -0.995890     -0.996643     -0.994833     -0.996515     -0.998469   \n",
       "std        0.018943      0.014030      0.021462      0.015626      0.007453   \n",
       "min       -1.000000     -1.000000     -1.000000     -1.000000     -1.000000   \n",
       "25%       -0.999999     -0.999998     -0.999996     -0.999995     -0.999996   \n",
       "50%       -0.999964     -0.999947     -0.999921     -0.999917     -0.999946   \n",
       "75%       -0.999209     -0.999186     -0.998720     -0.998969     -0.999509   \n",
       "max       -0.519979     -0.522574     -0.503956     -0.553487     -0.827810   \n",
       "\n",
       "       ...          1014          1015          1016          1017   \n",
       "count  ...  10000.000000  10000.000000  10000.000000  10000.000000  \\\n",
       "mean   ...     -0.993143     -0.987315     -0.990555     -0.994025   \n",
       "std    ...      0.043699      0.083057      0.064083      0.044608   \n",
       "min    ...     -1.000000     -1.000000     -1.000000     -1.000000   \n",
       "25%    ...     -0.999997     -0.999998     -0.999999     -0.999999   \n",
       "50%    ...     -0.999960     -0.999969     -0.999978     -0.999978   \n",
       "75%    ...     -0.999486     -0.999472     -0.999585     -0.999650   \n",
       "max    ...      0.031640      0.572610      0.441620      0.259027   \n",
       "\n",
       "               1018          1019          1020          1021          1022   \n",
       "count  10000.000000  10000.000000  10000.000000  10000.000000  10000.000000  \\\n",
       "mean      -0.996376     -0.997216     -0.997730     -0.999465     -0.999712   \n",
       "std        0.031719      0.023372      0.020007      0.005553      0.002374   \n",
       "min       -1.000000     -1.000000     -1.000000     -1.000000     -1.000000   \n",
       "25%       -0.999999     -0.999999     -0.999999     -0.999999     -0.999997   \n",
       "50%       -0.999982     -0.999978     -0.999985     -0.999993     -0.999985   \n",
       "75%       -0.999718     -0.999692     -0.999781     -0.999932     -0.999918   \n",
       "max        0.443376     -0.034209     -0.151669     -0.717535     -0.855124   \n",
       "\n",
       "               1023  \n",
       "count  10000.000000  \n",
       "mean      -0.982177  \n",
       "std        0.031838  \n",
       "min       -0.999993  \n",
       "25%       -0.997726  \n",
       "50%       -0.992908  \n",
       "75%       -0.980099  \n",
       "max       -0.163544  \n",
       "\n",
       "[8 rows x 1024 columns]"
      ]
     },
     "execution_count": 4,
     "metadata": {},
     "output_type": "execute_result"
    }
   ],
   "source": [
    "pd.DataFrame(Fake_MNIST[0].reshape(10000, 32*32).astype('float32')).describe()"
   ]
  },
  {
   "cell_type": "code",
   "execution_count": 22,
   "id": "9135e42d",
   "metadata": {
    "ExecuteTime": {
     "end_time": "2023-05-04T11:08:44.941079Z",
     "start_time": "2023-05-04T11:08:44.935015Z"
    }
   },
   "outputs": [],
   "source": [
    "df = pd.DataFrame(Fake_MNIST[0].reshape(10000, 32*32))"
   ]
  },
  {
   "cell_type": "code",
   "execution_count": 23,
   "id": "f8ad8cb4",
   "metadata": {
    "ExecuteTime": {
     "end_time": "2023-05-04T11:08:49.251706Z",
     "start_time": "2023-05-04T11:08:49.222912Z"
    }
   },
   "outputs": [
    {
     "data": {
      "text/html": [
       "<div>\n",
       "<style scoped>\n",
       "    .dataframe tbody tr th:only-of-type {\n",
       "        vertical-align: middle;\n",
       "    }\n",
       "\n",
       "    .dataframe tbody tr th {\n",
       "        vertical-align: top;\n",
       "    }\n",
       "\n",
       "    .dataframe thead th {\n",
       "        text-align: right;\n",
       "    }\n",
       "</style>\n",
       "<table border=\"1\" class=\"dataframe\">\n",
       "  <thead>\n",
       "    <tr style=\"text-align: right;\">\n",
       "      <th></th>\n",
       "      <th>0</th>\n",
       "      <th>1</th>\n",
       "      <th>2</th>\n",
       "      <th>3</th>\n",
       "      <th>4</th>\n",
       "      <th>5</th>\n",
       "      <th>6</th>\n",
       "      <th>7</th>\n",
       "      <th>8</th>\n",
       "      <th>9</th>\n",
       "      <th>...</th>\n",
       "      <th>1014</th>\n",
       "      <th>1015</th>\n",
       "      <th>1016</th>\n",
       "      <th>1017</th>\n",
       "      <th>1018</th>\n",
       "      <th>1019</th>\n",
       "      <th>1020</th>\n",
       "      <th>1021</th>\n",
       "      <th>1022</th>\n",
       "      <th>1023</th>\n",
       "    </tr>\n",
       "  </thead>\n",
       "  <tbody>\n",
       "    <tr>\n",
       "      <th>0</th>\n",
       "      <td>-0.999973</td>\n",
       "      <td>-1.000000</td>\n",
       "      <td>-1.000000</td>\n",
       "      <td>-1.000000</td>\n",
       "      <td>-1.000000</td>\n",
       "      <td>-1.000000</td>\n",
       "      <td>-1.000000</td>\n",
       "      <td>-1.000000</td>\n",
       "      <td>-0.999999</td>\n",
       "      <td>-0.999996</td>\n",
       "      <td>...</td>\n",
       "      <td>-0.999921</td>\n",
       "      <td>-0.999985</td>\n",
       "      <td>-0.999973</td>\n",
       "      <td>-0.999869</td>\n",
       "      <td>-0.998887</td>\n",
       "      <td>-0.997077</td>\n",
       "      <td>-0.994639</td>\n",
       "      <td>-0.999252</td>\n",
       "      <td>-0.999712</td>\n",
       "      <td>-0.999576</td>\n",
       "    </tr>\n",
       "    <tr>\n",
       "      <th>1</th>\n",
       "      <td>-1.000000</td>\n",
       "      <td>-1.000000</td>\n",
       "      <td>-1.000000</td>\n",
       "      <td>-1.000000</td>\n",
       "      <td>-1.000000</td>\n",
       "      <td>-0.999999</td>\n",
       "      <td>-0.999984</td>\n",
       "      <td>-0.999733</td>\n",
       "      <td>-0.999252</td>\n",
       "      <td>-0.999773</td>\n",
       "      <td>...</td>\n",
       "      <td>-0.999894</td>\n",
       "      <td>-0.999977</td>\n",
       "      <td>-0.999994</td>\n",
       "      <td>-0.999984</td>\n",
       "      <td>-0.999753</td>\n",
       "      <td>-0.998708</td>\n",
       "      <td>-0.999171</td>\n",
       "      <td>-0.999856</td>\n",
       "      <td>-0.999938</td>\n",
       "      <td>-0.993231</td>\n",
       "    </tr>\n",
       "    <tr>\n",
       "      <th>2</th>\n",
       "      <td>-0.996899</td>\n",
       "      <td>-0.996691</td>\n",
       "      <td>-0.995577</td>\n",
       "      <td>-0.997534</td>\n",
       "      <td>-0.998864</td>\n",
       "      <td>-0.999402</td>\n",
       "      <td>-0.999528</td>\n",
       "      <td>-0.998523</td>\n",
       "      <td>-0.996875</td>\n",
       "      <td>-0.996668</td>\n",
       "      <td>...</td>\n",
       "      <td>-0.999928</td>\n",
       "      <td>-0.999977</td>\n",
       "      <td>-0.999965</td>\n",
       "      <td>-0.999945</td>\n",
       "      <td>-0.999820</td>\n",
       "      <td>-0.999720</td>\n",
       "      <td>-0.999847</td>\n",
       "      <td>-0.999980</td>\n",
       "      <td>-0.999978</td>\n",
       "      <td>-0.972436</td>\n",
       "    </tr>\n",
       "    <tr>\n",
       "      <th>3</th>\n",
       "      <td>-0.999999</td>\n",
       "      <td>-1.000000</td>\n",
       "      <td>-1.000000</td>\n",
       "      <td>-1.000000</td>\n",
       "      <td>-1.000000</td>\n",
       "      <td>-1.000000</td>\n",
       "      <td>-1.000000</td>\n",
       "      <td>-1.000000</td>\n",
       "      <td>-0.999999</td>\n",
       "      <td>-0.999997</td>\n",
       "      <td>...</td>\n",
       "      <td>-0.999858</td>\n",
       "      <td>-0.999987</td>\n",
       "      <td>-0.999997</td>\n",
       "      <td>-1.000000</td>\n",
       "      <td>-1.000000</td>\n",
       "      <td>-1.000000</td>\n",
       "      <td>-0.999998</td>\n",
       "      <td>-0.999994</td>\n",
       "      <td>-0.999926</td>\n",
       "      <td>-0.970809</td>\n",
       "    </tr>\n",
       "    <tr>\n",
       "      <th>4</th>\n",
       "      <td>-0.999996</td>\n",
       "      <td>-1.000000</td>\n",
       "      <td>-1.000000</td>\n",
       "      <td>-0.999998</td>\n",
       "      <td>-0.999999</td>\n",
       "      <td>-0.999998</td>\n",
       "      <td>-0.999996</td>\n",
       "      <td>-0.999983</td>\n",
       "      <td>-0.999961</td>\n",
       "      <td>-0.999942</td>\n",
       "      <td>...</td>\n",
       "      <td>-0.999969</td>\n",
       "      <td>-0.999993</td>\n",
       "      <td>-1.000000</td>\n",
       "      <td>-1.000000</td>\n",
       "      <td>-1.000000</td>\n",
       "      <td>-0.999999</td>\n",
       "      <td>-0.999995</td>\n",
       "      <td>-0.999992</td>\n",
       "      <td>-0.999979</td>\n",
       "      <td>-0.994897</td>\n",
       "    </tr>\n",
       "    <tr>\n",
       "      <th>...</th>\n",
       "      <td>...</td>\n",
       "      <td>...</td>\n",
       "      <td>...</td>\n",
       "      <td>...</td>\n",
       "      <td>...</td>\n",
       "      <td>...</td>\n",
       "      <td>...</td>\n",
       "      <td>...</td>\n",
       "      <td>...</td>\n",
       "      <td>...</td>\n",
       "      <td>...</td>\n",
       "      <td>...</td>\n",
       "      <td>...</td>\n",
       "      <td>...</td>\n",
       "      <td>...</td>\n",
       "      <td>...</td>\n",
       "      <td>...</td>\n",
       "      <td>...</td>\n",
       "      <td>...</td>\n",
       "      <td>...</td>\n",
       "      <td>...</td>\n",
       "    </tr>\n",
       "    <tr>\n",
       "      <th>9995</th>\n",
       "      <td>-0.999994</td>\n",
       "      <td>-1.000000</td>\n",
       "      <td>-1.000000</td>\n",
       "      <td>-0.999990</td>\n",
       "      <td>-0.999971</td>\n",
       "      <td>-0.999986</td>\n",
       "      <td>-0.999996</td>\n",
       "      <td>-1.000000</td>\n",
       "      <td>-1.000000</td>\n",
       "      <td>-0.999994</td>\n",
       "      <td>...</td>\n",
       "      <td>-0.999775</td>\n",
       "      <td>-0.998033</td>\n",
       "      <td>-0.995035</td>\n",
       "      <td>-0.996604</td>\n",
       "      <td>-0.999951</td>\n",
       "      <td>-0.999994</td>\n",
       "      <td>-0.999999</td>\n",
       "      <td>-0.999999</td>\n",
       "      <td>-0.999997</td>\n",
       "      <td>-0.997722</td>\n",
       "    </tr>\n",
       "    <tr>\n",
       "      <th>9996</th>\n",
       "      <td>-1.000000</td>\n",
       "      <td>-1.000000</td>\n",
       "      <td>-1.000000</td>\n",
       "      <td>-1.000000</td>\n",
       "      <td>-1.000000</td>\n",
       "      <td>-0.999964</td>\n",
       "      <td>-0.999669</td>\n",
       "      <td>-0.998930</td>\n",
       "      <td>-0.999172</td>\n",
       "      <td>-0.999754</td>\n",
       "      <td>...</td>\n",
       "      <td>-0.980387</td>\n",
       "      <td>-0.997080</td>\n",
       "      <td>-0.999925</td>\n",
       "      <td>-0.999996</td>\n",
       "      <td>-0.999998</td>\n",
       "      <td>-0.999970</td>\n",
       "      <td>-0.999800</td>\n",
       "      <td>-0.999768</td>\n",
       "      <td>-0.999740</td>\n",
       "      <td>-0.997466</td>\n",
       "    </tr>\n",
       "    <tr>\n",
       "      <th>9997</th>\n",
       "      <td>-0.999839</td>\n",
       "      <td>-1.000000</td>\n",
       "      <td>-1.000000</td>\n",
       "      <td>-1.000000</td>\n",
       "      <td>-1.000000</td>\n",
       "      <td>-1.000000</td>\n",
       "      <td>-0.999980</td>\n",
       "      <td>-0.999616</td>\n",
       "      <td>-0.999670</td>\n",
       "      <td>-0.998802</td>\n",
       "      <td>...</td>\n",
       "      <td>-1.000000</td>\n",
       "      <td>-1.000000</td>\n",
       "      <td>-1.000000</td>\n",
       "      <td>-1.000000</td>\n",
       "      <td>-1.000000</td>\n",
       "      <td>-1.000000</td>\n",
       "      <td>-1.000000</td>\n",
       "      <td>-1.000000</td>\n",
       "      <td>-1.000000</td>\n",
       "      <td>-0.983989</td>\n",
       "    </tr>\n",
       "    <tr>\n",
       "      <th>9998</th>\n",
       "      <td>-0.987417</td>\n",
       "      <td>-0.984159</td>\n",
       "      <td>-0.998641</td>\n",
       "      <td>-0.999963</td>\n",
       "      <td>-0.999983</td>\n",
       "      <td>-0.999994</td>\n",
       "      <td>-0.999931</td>\n",
       "      <td>-0.999625</td>\n",
       "      <td>-0.999655</td>\n",
       "      <td>-0.999953</td>\n",
       "      <td>...</td>\n",
       "      <td>-0.999787</td>\n",
       "      <td>-0.999808</td>\n",
       "      <td>-0.999830</td>\n",
       "      <td>-0.999931</td>\n",
       "      <td>-0.999994</td>\n",
       "      <td>-1.000000</td>\n",
       "      <td>-1.000000</td>\n",
       "      <td>-1.000000</td>\n",
       "      <td>-1.000000</td>\n",
       "      <td>-0.997360</td>\n",
       "    </tr>\n",
       "    <tr>\n",
       "      <th>9999</th>\n",
       "      <td>-0.999998</td>\n",
       "      <td>-1.000000</td>\n",
       "      <td>-1.000000</td>\n",
       "      <td>-0.999920</td>\n",
       "      <td>-0.998224</td>\n",
       "      <td>-0.986531</td>\n",
       "      <td>-0.993307</td>\n",
       "      <td>-0.998727</td>\n",
       "      <td>-0.999159</td>\n",
       "      <td>-0.999643</td>\n",
       "      <td>...</td>\n",
       "      <td>-0.999327</td>\n",
       "      <td>-0.999540</td>\n",
       "      <td>-0.999116</td>\n",
       "      <td>-0.994520</td>\n",
       "      <td>-0.996718</td>\n",
       "      <td>-0.997225</td>\n",
       "      <td>-0.998884</td>\n",
       "      <td>-0.999805</td>\n",
       "      <td>-0.999826</td>\n",
       "      <td>-0.967552</td>\n",
       "    </tr>\n",
       "  </tbody>\n",
       "</table>\n",
       "<p>10000 rows × 1024 columns</p>\n",
       "</div>"
      ],
      "text/plain": [
       "          0         1         2         3         4         5         6      \n",
       "0    -0.999973 -1.000000 -1.000000 -1.000000 -1.000000 -1.000000 -1.000000  \\\n",
       "1    -1.000000 -1.000000 -1.000000 -1.000000 -1.000000 -0.999999 -0.999984   \n",
       "2    -0.996899 -0.996691 -0.995577 -0.997534 -0.998864 -0.999402 -0.999528   \n",
       "3    -0.999999 -1.000000 -1.000000 -1.000000 -1.000000 -1.000000 -1.000000   \n",
       "4    -0.999996 -1.000000 -1.000000 -0.999998 -0.999999 -0.999998 -0.999996   \n",
       "...        ...       ...       ...       ...       ...       ...       ...   \n",
       "9995 -0.999994 -1.000000 -1.000000 -0.999990 -0.999971 -0.999986 -0.999996   \n",
       "9996 -1.000000 -1.000000 -1.000000 -1.000000 -1.000000 -0.999964 -0.999669   \n",
       "9997 -0.999839 -1.000000 -1.000000 -1.000000 -1.000000 -1.000000 -0.999980   \n",
       "9998 -0.987417 -0.984159 -0.998641 -0.999963 -0.999983 -0.999994 -0.999931   \n",
       "9999 -0.999998 -1.000000 -1.000000 -0.999920 -0.998224 -0.986531 -0.993307   \n",
       "\n",
       "          7         8         9     ...      1014      1015      1016   \n",
       "0    -1.000000 -0.999999 -0.999996  ... -0.999921 -0.999985 -0.999973  \\\n",
       "1    -0.999733 -0.999252 -0.999773  ... -0.999894 -0.999977 -0.999994   \n",
       "2    -0.998523 -0.996875 -0.996668  ... -0.999928 -0.999977 -0.999965   \n",
       "3    -1.000000 -0.999999 -0.999997  ... -0.999858 -0.999987 -0.999997   \n",
       "4    -0.999983 -0.999961 -0.999942  ... -0.999969 -0.999993 -1.000000   \n",
       "...        ...       ...       ...  ...       ...       ...       ...   \n",
       "9995 -1.000000 -1.000000 -0.999994  ... -0.999775 -0.998033 -0.995035   \n",
       "9996 -0.998930 -0.999172 -0.999754  ... -0.980387 -0.997080 -0.999925   \n",
       "9997 -0.999616 -0.999670 -0.998802  ... -1.000000 -1.000000 -1.000000   \n",
       "9998 -0.999625 -0.999655 -0.999953  ... -0.999787 -0.999808 -0.999830   \n",
       "9999 -0.998727 -0.999159 -0.999643  ... -0.999327 -0.999540 -0.999116   \n",
       "\n",
       "          1017      1018      1019      1020      1021      1022      1023  \n",
       "0    -0.999869 -0.998887 -0.997077 -0.994639 -0.999252 -0.999712 -0.999576  \n",
       "1    -0.999984 -0.999753 -0.998708 -0.999171 -0.999856 -0.999938 -0.993231  \n",
       "2    -0.999945 -0.999820 -0.999720 -0.999847 -0.999980 -0.999978 -0.972436  \n",
       "3    -1.000000 -1.000000 -1.000000 -0.999998 -0.999994 -0.999926 -0.970809  \n",
       "4    -1.000000 -1.000000 -0.999999 -0.999995 -0.999992 -0.999979 -0.994897  \n",
       "...        ...       ...       ...       ...       ...       ...       ...  \n",
       "9995 -0.996604 -0.999951 -0.999994 -0.999999 -0.999999 -0.999997 -0.997722  \n",
       "9996 -0.999996 -0.999998 -0.999970 -0.999800 -0.999768 -0.999740 -0.997466  \n",
       "9997 -1.000000 -1.000000 -1.000000 -1.000000 -1.000000 -1.000000 -0.983989  \n",
       "9998 -0.999931 -0.999994 -1.000000 -1.000000 -1.000000 -1.000000 -0.997360  \n",
       "9999 -0.994520 -0.996718 -0.997225 -0.998884 -0.999805 -0.999826 -0.967552  \n",
       "\n",
       "[10000 rows x 1024 columns]"
      ]
     },
     "execution_count": 23,
     "metadata": {},
     "output_type": "execute_result"
    }
   ],
   "source": [
    "df"
   ]
  },
  {
   "cell_type": "code",
   "execution_count": 24,
   "id": "c0746e20",
   "metadata": {
    "ExecuteTime": {
     "end_time": "2023-05-04T11:24:29.985438Z",
     "start_time": "2023-05-04T11:24:09.014217Z"
    }
   },
   "outputs": [],
   "source": [
    "import matplotlib.pyplot as plt\n",
    "from sklearn.manifold import TSNE\n",
    "\n",
    "tsne = TSNE(n_components=2).fit_transform(df)"
   ]
  },
  {
   "cell_type": "code",
   "execution_count": 27,
   "id": "ec511f12",
   "metadata": {
    "ExecuteTime": {
     "end_time": "2023-05-04T11:36:05.032168Z",
     "start_time": "2023-05-04T11:36:04.918547Z"
    }
   },
   "outputs": [],
   "source": [
    "import seaborn as sns"
   ]
  },
  {
   "cell_type": "code",
   "execution_count": null,
   "id": "b6f18ba7",
   "metadata": {
    "ExecuteTime": {
     "start_time": "2023-05-04T11:36:26.348Z"
    }
   },
   "outputs": [
    {
     "name": "stderr",
     "output_type": "stream",
     "text": [
      "/var/folders/1b/dx8_94fs0q740wx3lfknk6y40000gn/T/ipykernel_3125/912816446.py:4: UserWarning: Ignoring `palette` because no `hue` variable has been assigned.\n",
      "  sns.scatterplot(\n"
     ]
    }
   ],
   "source": [
    "tsne_df = pd.DataFrame({'x': tsne[:, 0], 'y':tsne[:, 1]})\n",
    "\n",
    "plt.figure(figsize=(16, 10))\n",
    "sns.scatterplot(\n",
    "    x = 'x', y = 'y',\n",
    "    #hue = 'classes',\n",
    "    palette = sns.color_palette(\"Set1\", 10),\n",
    "    data = tsne_df,\n",
    "    legend = \"full\",\n",
    "    alpha = 0.4\n",
    ")\n",
    "\n",
    "plt.title(\"tSNE\")\n",
    "\n",
    "plt.savefig('TSNE.png', bbox_inches='tight')  \n",
    "plt.show()"
   ]
  },
  {
   "cell_type": "code",
   "execution_count": 5,
   "id": "a3844ad4",
   "metadata": {
    "ExecuteTime": {
     "end_time": "2023-05-04T09:54:18.061122Z",
     "start_time": "2023-05-04T09:54:06.607582Z"
    }
   },
   "outputs": [],
   "source": [
    "sample_corr = pd.DataFrame(Fake_MNIST[0].reshape(10000, 32*32).astype('float32')).corr().round(2)"
   ]
  },
  {
   "cell_type": "code",
   "execution_count": 6,
   "id": "d9975344",
   "metadata": {
    "ExecuteTime": {
     "end_time": "2023-05-04T09:54:18.064605Z",
     "start_time": "2023-05-04T09:54:18.062121Z"
    }
   },
   "outputs": [
    {
     "data": {
      "text/plain": [
       "array([[-0.9999727 , -0.99999982, -1.        , ..., -1.        ,\n",
       "        -1.        , -0.99998504],\n",
       "       [-0.99694997, -0.99999851, -1.        , ..., -1.        ,\n",
       "        -1.        , -0.99999899],\n",
       "       [-0.99992728, -1.        , -1.        , ..., -1.        ,\n",
       "        -1.        , -0.99999768],\n",
       "       ...,\n",
       "       [-0.99998182, -0.99999982, -0.99999988, ..., -0.99385726,\n",
       "        -0.99503267, -0.99755371],\n",
       "       [-0.99999988, -1.        , -1.        , ..., -0.99197996,\n",
       "        -0.98164248, -0.99854445],\n",
       "       [-0.99999231, -1.        , -1.        , ..., -0.99925196,\n",
       "        -0.99971163, -0.99957579]])"
      ]
     },
     "execution_count": 6,
     "metadata": {},
     "output_type": "execute_result"
    }
   ],
   "source": [
    "Fake_MNIST[0][0].reshape(32,32)"
   ]
  },
  {
   "cell_type": "code",
   "execution_count": 7,
   "id": "f4668bf9",
   "metadata": {
    "ExecuteTime": {
     "end_time": "2023-05-04T09:54:18.135835Z",
     "start_time": "2023-05-04T09:54:18.065820Z"
    }
   },
   "outputs": [
    {
     "data": {
      "text/plain": [
       "<matplotlib.image.AxesImage at 0x12f7bbb80>"
      ]
     },
     "execution_count": 7,
     "metadata": {},
     "output_type": "execute_result"
    },
    {
     "data": {
      "image/png": "[encoded data removed]",
      "text/plain": [
       "<Figure size 640x480 with 1 Axes>"
      ]
     },
     "metadata": {},
     "output_type": "display_data"
    }
   ],
   "source": [
    "plt.imshow(Fake_MNIST[0][0].reshape(32,32))"
   ]
  },
  {
   "cell_type": "code",
   "execution_count": 8,
   "id": "8f5a2e33",
   "metadata": {
    "ExecuteTime": {
     "end_time": "2023-05-04T09:54:18.139364Z",
     "start_time": "2023-05-04T09:54:18.136702Z"
    },
    "scrolled": true
   },
   "outputs": [],
   "source": [
    "in_img = pd.DataFrame(Fake_MNIST[0][0].reshape(32,32).astype('float32')).corr().round(2).unstack().sort_values(ascending=False)"
   ]
  },
  {
   "cell_type": "code",
   "execution_count": 9,
   "id": "541797b2",
   "metadata": {
    "ExecuteTime": {
     "end_time": "2023-05-04T09:54:18.143295Z",
     "start_time": "2023-05-04T09:54:18.140098Z"
    }
   },
   "outputs": [
    {
     "data": {
      "text/plain": [
       "27  26    0.99\n",
       "2   1     0.99\n",
       "26  27    0.99\n",
       "1   2     0.99\n",
       "7   27    0.98\n",
       "          ... \n",
       "18  3    -0.36\n",
       "31  19   -0.37\n",
       "19  31   -0.37\n",
       "18  31   -0.39\n",
       "31  18   -0.39\n",
       "Length: 992, dtype: float64"
      ]
     },
     "execution_count": 9,
     "metadata": {},
     "output_type": "execute_result"
    }
   ],
   "source": [
    "in_img[in_img < 1]"
   ]
  },
  {
   "cell_type": "code",
   "execution_count": 12,
   "id": "1cb90775",
   "metadata": {
    "ExecuteTime": {
     "end_time": "2023-05-04T09:55:17.737446Z",
     "start_time": "2023-05-04T09:55:17.667381Z"
    }
   },
   "outputs": [],
   "source": [
    "import torch\n",
    "import torch.nn as nn\n",
    "import torch.nn.functional as F\n",
    "import torch.optim as optim\n",
    "from torchvision import datasets, transforms\n",
    "from matplotlib import pyplot as plt"
   ]
  },
  {
   "cell_type": "code",
   "execution_count": 15,
   "id": "464fbedf",
   "metadata": {
    "ExecuteTime": {
     "end_time": "2023-05-04T09:56:49.189764Z",
     "start_time": "2023-05-04T09:56:49.162661Z"
    }
   },
   "outputs": [
    {
     "ename": "AttributeError",
     "evalue": "module 'torch.backends' has no attribute 'mps'",
     "output_type": "error",
     "traceback": [
      "\u001b[0;31m---------------------------------------------------------------------------\u001b[0m",
      "\u001b[0;31mAttributeError\u001b[0m                            Traceback (most recent call last)",
      "Cell \u001b[0;32mIn[15], line 1\u001b[0m\n\u001b[0;32m----> 1\u001b[0m \u001b[38;5;28;01mif\u001b[39;00m \u001b[38;5;129;01mnot\u001b[39;00m \u001b[43mtorch\u001b[49m\u001b[38;5;241;43m.\u001b[39;49m\u001b[43mbackends\u001b[49m\u001b[38;5;241;43m.\u001b[39;49m\u001b[43mmps\u001b[49m\u001b[38;5;241m.\u001b[39mis_available():\n\u001b[1;32m      2\u001b[0m     \u001b[38;5;28;01mif\u001b[39;00m \u001b[38;5;129;01mnot\u001b[39;00m torch\u001b[38;5;241m.\u001b[39mbackends\u001b[38;5;241m.\u001b[39mmps\u001b[38;5;241m.\u001b[39mis_built():\n\u001b[1;32m      3\u001b[0m         \u001b[38;5;28mprint\u001b[39m(\u001b[38;5;124m\"\u001b[39m\u001b[38;5;124mMPS not available because the current PyTorch install was not \u001b[39m\u001b[38;5;124m\"\u001b[39m\n\u001b[1;32m      4\u001b[0m               \u001b[38;5;124m\"\u001b[39m\u001b[38;5;124mbuilt with MPS enabled.\u001b[39m\u001b[38;5;124m\"\u001b[39m)\n",
      "\u001b[0;31mAttributeError\u001b[0m: module 'torch.backends' has no attribute 'mps'"
     ]
    }
   ],
   "source": [
    "if not torch.backends.mps.is_available():\n",
    "    if not torch.backends.mps.is_built():\n",
    "        print(\"MPS not available because the current PyTorch install was not \"\n",
    "              \"built with MPS enabled.\")\n",
    "    else:\n",
    "        print(\"MPS not available because the current MacOS version is not 12.3+ \"\n",
    "              \"and/or you do not have an MPS-enabled device on this machine.\")\n",
    "\n",
    "else:\n",
    "    mps_device = torch.device(\"mps\")"
   ]
  },
  {
   "cell_type": "code",
   "execution_count": 16,
   "id": "801f14cd",
   "metadata": {
    "ExecuteTime": {
     "end_time": "2023-05-04T09:56:59.327959Z",
     "start_time": "2023-05-04T09:56:59.322232Z"
    }
   },
   "outputs": [
    {
     "data": {
      "text/plain": [
       "'1.9.0.post2'"
      ]
     },
     "execution_count": 16,
     "metadata": {},
     "output_type": "execute_result"
    }
   ],
   "source": [
    "torch.__version__"
   ]
  },
  {
   "cell_type": "code",
   "execution_count": 17,
   "id": "58245c3a",
   "metadata": {
    "ExecuteTime": {
     "end_time": "2023-05-04T11:04:18.054520Z",
     "start_time": "2023-05-04T11:04:11.980729Z"
    }
   },
   "outputs": [
    {
     "name": "stdout",
     "output_type": "stream",
     "text": [
      "Downloading http://yann.lecun.com/exdb/mnist/train-images-idx3-ubyte.gz\n"
     ]
    },
    {
     "name": "stderr",
     "output_type": "stream",
     "text": [
      "1.7%"
     ]
    },
    {
     "name": "stdout",
     "output_type": "stream",
     "text": [
      "Downloading http://yann.lecun.com/exdb/mnist/train-images-idx3-ubyte.gz to ./data/MNIST/raw/train-images-idx3-ubyte.gz\n"
     ]
    },
    {
     "name": "stderr",
     "output_type": "stream",
     "text": [
      "31.0%IOPub message rate exceeded.\n",
      "The notebook server will temporarily stop sending output\n",
      "to the client in order to avoid crashing it.\n",
      "To change this limit, set the config variable\n",
      "`--NotebookApp.iopub_msg_rate_limit`.\n",
      "\n",
      "Current values:\n",
      "NotebookApp.iopub_msg_rate_limit=1000.0 (msgs/sec)\n",
      "NotebookApp.rate_limit_window=3.0 (secs)\n",
      "\n",
      "100.0%\n"
     ]
    },
    {
     "name": "stdout",
     "output_type": "stream",
     "text": [
      "Extracting ./data/MNIST/raw/train-images-idx3-ubyte.gz to ./data/MNIST/raw\n",
      "\n",
      "Downloading http://yann.lecun.com/exdb/mnist/train-labels-idx1-ubyte.gz\n"
     ]
    },
    {
     "name": "stderr",
     "output_type": "stream",
     "text": [
      "102.8%"
     ]
    },
    {
     "name": "stdout",
     "output_type": "stream",
     "text": [
      "Downloading http://yann.lecun.com/exdb/mnist/train-labels-idx1-ubyte.gz to ./data/MNIST/raw/train-labels-idx1-ubyte.gz\n",
      "Extracting ./data/MNIST/raw/train-labels-idx1-ubyte.gz to ./data/MNIST/raw\n",
      "\n",
      "Downloading http://yann.lecun.com/exdb/mnist/t10k-images-idx3-ubyte.gz\n"
     ]
    },
    {
     "name": "stderr",
     "output_type": "stream",
     "text": [
      "\n",
      "11.4%"
     ]
    },
    {
     "name": "stdout",
     "output_type": "stream",
     "text": [
      "Downloading http://yann.lecun.com/exdb/mnist/t10k-images-idx3-ubyte.gz to ./data/MNIST/raw/t10k-images-idx3-ubyte.gz\n"
     ]
    },
    {
     "name": "stderr",
     "output_type": "stream",
     "text": [
      "82.2%IOPub message rate exceeded.\n",
      "The notebook server will temporarily stop sending output\n",
      "to the client in order to avoid crashing it.\n",
      "To change this limit, set the config variable\n",
      "`--NotebookApp.iopub_msg_rate_limit`.\n",
      "\n",
      "Current values:\n",
      "NotebookApp.iopub_msg_rate_limit=1000.0 (msgs/sec)\n",
      "NotebookApp.rate_limit_window=3.0 (secs)\n",
      "\n"
     ]
    }
   ],
   "source": [
    "import torch\n",
    "import torchvision\n",
    "import matplotlib.pyplot as plt\n",
    "\n",
    "# Load the MNIST dataset\n",
    "transform = torchvision.transforms.Compose([\n",
    "    torchvision.transforms.ToTensor(),\n",
    "    torchvision.transforms.Normalize((0.1307,), (0.3081,))\n",
    "])\n",
    "dataset = torchvision.datasets.MNIST(root='./data', train=True, transform=transform, download=True)\n",
    "\n",
    "# Count the frequency of each label\n",
    "label_counts = torch.bincount(dataset.targets)\n",
    "\n"
   ]
  },
  {
   "cell_type": "code",
   "execution_count": 18,
   "id": "f6dac8f0",
   "metadata": {
    "ExecuteTime": {
     "end_time": "2023-05-04T11:05:24.305450Z",
     "start_time": "2023-05-04T11:05:24.201530Z"
    }
   },
   "outputs": [
    {
     "data": {
      "image/png": "[encoded data removed]",
      "text/plain": [
       "<Figure size 640x480 with 1 Axes>"
      ]
     },
     "metadata": {},
     "output_type": "display_data"
    }
   ],
   "source": [
    "# Plot the histogram\n",
    "plt.bar(range(10), label_counts)\n",
    "plt.xticks(range(10))\n",
    "plt.xlabel('Label')\n",
    "plt.ylabel('Frequency')\n",
    "plt.title('Distribution of MNIST Data')\n",
    "plt.show()\n"
   ]
  },
  {
   "cell_type": "code",
   "execution_count": 19,
   "id": "77acbae5",
   "metadata": {
    "ExecuteTime": {
     "end_time": "2023-05-04T11:07:07.050191Z",
     "start_time": "2023-05-04T11:07:04.876159Z"
    }
   },
   "outputs": [
    {
     "data": {
      "image/png": "[encoded data removed]",
      "text/plain": [
       "<Figure size 640x480 with 1 Axes>"
      ]
     },
     "metadata": {},
     "output_type": "display_data"
    }
   ],
   "source": [
    "import torch\n",
    "import torchvision\n",
    "import matplotlib.pyplot as plt\n",
    "\n",
    "# Load the MNIST dataset\n",
    "transform = torchvision.transforms.Compose([\n",
    "    torchvision.transforms.ToTensor(),\n",
    "    torchvision.transforms.Normalize((0.1307,), (0.3081,))\n",
    "])\n",
    "dataset = torchvision.datasets.MNIST(root='./data', train=True, transform=transform, download=True)\n",
    "\n",
    "# Flatten the images and stack them into a single tensor\n",
    "images = torch.stack([img.view(-1) for img, label in dataset])\n",
    "\n",
    "# Plot the histogram\n",
    "plt.hist(images.numpy().flatten(), bins=256, range=(0, 1))\n",
    "plt.xlabel('Pixel Value')\n",
    "plt.ylabel('Frequency')\n",
    "plt.title('Pixel Distribution of MNIST Data')\n",
    "plt.show()\n"
   ]
  },
  {
   "cell_type": "code",
   "execution_count": null,
   "id": "cd69fa59",
   "metadata": {},
   "outputs": [],
   "source": []
  }
 ],
 "metadata": {
  "kernelspec": {
   "display_name": "Python 3 (ipykernel)",
   "language": "python",
   "name": "python3"
  },
  "language_info": {
   "codemirror_mode": {
    "name": "ipython",
    "version": 3
   },
   "file_extension": ".py",
   "mimetype": "text/x-python",
   "name": "python",
   "nbconvert_exporter": "python",
   "pygments_lexer": "ipython3",
   "version": "3.8.16"
  },
  "toc": {
   "base_numbering": 1,
   "nav_menu": {},
   "number_sections": true,
   "sideBar": true,
   "skip_h1_title": false,
   "title_cell": "Table of Contents",
   "title_sidebar": "Contents",
   "toc_cell": false,
   "toc_position": {},
   "toc_section_display": true,
   "toc_window_display": false
  }
 },
 "nbformat": 4,
 "nbformat_minor": 5
}
